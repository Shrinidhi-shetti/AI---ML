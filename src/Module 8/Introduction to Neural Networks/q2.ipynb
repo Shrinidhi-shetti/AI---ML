{
 "cells": [
  {
   "cell_type": "code",
   "execution_count": null,
   "metadata": {},
   "outputs": [],
   "source": [
    "# Question 2: Compare Biological and Artificial Neurons using Code\n",
    "# Description: Visualize how biological neurons and artificial neurons process information differently."
   ]
  },
  {
   "cell_type": "code",
   "execution_count": null,
   "metadata": {},
   "outputs": [],
   "source": [
    "import numpy as np\n",
    "import matplotlib.pyplot as plt\n",
    "\n",
    "# Biological neuron simulation (simplified)\n",
    "def biological_neuron(inputs, threshold=1.0):\n",
    "    \"\"\"\n",
    "    inputs: list or array of input signals (continuous)\n",
    "    threshold: firing threshold\n",
    "    returns: 1 if sum(inputs) > threshold else 0\n",
    "    \"\"\"\n",
    "    total_signal = np.sum(inputs)\n",
    "    output = 1 if total_signal > threshold else 0\n",
    "    return output, total_signal\n",
    "\n",
    "# Artificial neuron simulation (Perceptron)\n",
    "def artificial_neuron(inputs, weights, bias=0.0):\n",
    "    \"\"\"\n",
    "    inputs: array of inputs\n",
    "    weights: array of weights\n",
    "    bias: bias term\n",
    "    returns: output of step activation function\n",
    "    \"\"\"\n",
    "    total_input = np.dot(inputs, weights) + bias\n",
    "    output = 1 if total_input > 0 else 0\n",
    "    return output, total_input\n",
    "\n",
    "# Generate some example inputs\n",
    "inputs = np.linspace(0, 1, 5)  # 5 inputs ranging from 0 to 1\n",
    "weights = np.array([0.4, 0.6, -0.2, 0.8, 0.3])  # example weights for artificial neuron\n",
    "threshold = 1.2  # threshold for biological neuron\n",
    "bias = -0.5  # bias for artificial neuron\n",
    "\n",
    "bio_out, bio_signal = biological_neuron(inputs, threshold)\n",
    "art_out, art_signal = artificial_neuron(inputs, weights, bias)\n",
    "\n",
    "print(f\"Biological Neuron: Total Input = {bio_signal:.2f}, Output (fire=1/no fire=0) = {bio_out}\")\n",
    "print(f\"Artificial Neuron: Weighted Sum = {art_signal:.2f}, Output = {art_out}\")\n",
    "\n",
    "# Visualization\n",
    "fig, ax = plt.subplots(1, 2, figsize=(10,4))\n",
    "\n",
    "# Biological neuron input and output\n",
    "ax[0].bar(range(len(inputs)), inputs, color='green', alpha=0.6)\n",
    "ax[0].axhline(threshold/len(inputs), color='red', linestyle='--', label='Threshold per input approx.')\n",
    "ax[0].set_title('Biological Neuron Inputs')\n",
    "ax[0].set_xlabel('Input index')\n",
    "ax[0].set_ylabel('Signal Strength')\n",
    "ax[0].legend()\n",
    "ax[0].text(2, 0.8, f'Output: {\"Fire\" if bio_out == 1 else \"No Fire\"}', fontsize=12, color='blue')\n",
    "\n",
    "# Artificial neuron weighted input and output\n",
    "weighted_inputs = inputs * weights\n",
    "ax[1].bar(range(len(inputs)), weighted_inputs, color='blue', alpha=0.6)\n",
    "ax[1].axhline(-bias/len(weights), color='orange', linestyle='--', label='Bias per input approx.')\n",
    "ax[1].set_title('Artificial Neuron Weighted Inputs')\n",
    "ax[1].set_xlabel('Input index')\n",
    "ax[1].set_ylabel('Weighted Signal')\n",
    "ax[1].legend()\n",
    "ax[1].text(2, max(weighted_inputs)*0.6, f'Output: {art_out}', fontsize=12, color='red')\n",
    "\n",
    "plt.tight_layout()\n",
    "plt.show()\n"
   ]
  }
 ],
 "metadata": {
  "kernelspec": {
   "display_name": "Python 3",
   "language": "python",
   "name": "python3"
  },
  "language_info": {
   "codemirror_mode": {
    "name": "ipython",
    "version": 3
   },
   "file_extension": ".py",
   "mimetype": "text/x-python",
   "name": "python",
   "nbconvert_exporter": "python",
   "pygments_lexer": "ipython3",
   "version": "3.10.12"
  }
 },
 "nbformat": 4,
 "nbformat_minor": 2
}

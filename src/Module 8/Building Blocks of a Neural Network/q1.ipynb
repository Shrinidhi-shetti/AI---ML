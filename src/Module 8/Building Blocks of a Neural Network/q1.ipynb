{
 "cells": [
  {
   "cell_type": "code",
   "execution_count": null,
   "metadata": {},
   "outputs": [],
   "source": [
    "# Question 1: Understanding the Structure of a Neural Network\n",
    "# Description: Create a simple neural network with one input layer, one hidden layer, and one output layer using the Keras Sequential API, and print the model summary."
   ]
  },
  {
   "cell_type": "code",
   "execution_count": null,
   "metadata": {},
   "outputs": [],
   "source": [
    "import tensorflow as tf\n",
    "from tensorflow.keras.models import Sequential\n",
    "from tensorflow.keras.layers import Dense\n",
    "\n",
    "# Check if TensorFlow is installed correctly\n",
    "try:\n",
    "    tf_version = tf.__version__\n",
    "    print(f\"TensorFlow version: {tf_version}\")\n",
    "except ImportError:\n",
    "    print(\"Error: TensorFlow is not installed. Please install TensorFlow before running this code.\")\n",
    "    exit()  # Stop execution if TensorFlow is not found\n",
    "\n",
    "# 1. Define the model architecture using the Sequential API\n",
    "model = Sequential([\n",
    "    # Input layer: 784 neurons (for flattened 28x28 MNIST images)\n",
    "    # The input_shape is only specified in the first layer.\n",
    "    Dense(units=784, activation='relu', input_shape=(784,), name='input_layer'),\n",
    "    # Hidden layer: 128 neurons, ReLU activation\n",
    "    Dense(units=128, activation='relu', name='hidden_layer_1'),\n",
    "    # Output layer: 10 neurons (for 10 classes: 0-9), softmax activation for classification\n",
    "    Dense(units=10, activation='softmax', name='output_layer')\n",
    "])\n",
    "\n",
    "# 2. Print the model summary\n",
    "print(\"\\nModel Summary:\")\n",
    "model.summary()\n",
    "\n",
    "# 3. Optional:  Visualize the model (requires graphviz and pydot)\n",
    "# If you have graphviz and pydot installed, you can uncomment this to visualize:\n",
    "# try:\n",
    "#     tf.keras.utils.plot_model(model, to_file='model.png', show_shapes=True, show_layer_names=True)\n",
    "#     print(\"\\nModel visualization saved to 'model.png'\")\n",
    "# except ImportError:\n",
    "#     print(\"\\nWarning: graphviz and pydot are not installed.  Model visualization is skipped.\")\n",
    "#     print(\"  To visualize the model, install graphviz (https://graphviz.org/download/) and pydot (pip install pydot).\")\n",
    "# except Exception as e:\n",
    "#     print(f\"\\nAn error occurred while trying to visualize the model: {e}\")\n",
    "#     print(\"  Please check your installation of graphviz and pydot.\")\n",
    "\n",
    "print(\"\\nSimple neural network model created.  The model summary shows the architecture.\")\n"
   ]
  }
 ],
 "metadata": {
  "kernelspec": {
   "display_name": "Python 3",
   "language": "python",
   "name": "python3"
  },
  "language_info": {
   "codemirror_mode": {
    "name": "ipython",
    "version": 3
   },
   "file_extension": ".py",
   "mimetype": "text/x-python",
   "name": "python",
   "nbconvert_exporter": "python",
   "pygments_lexer": "ipython3",
   "version": "3.10.12"
  }
 },
 "nbformat": 4,
 "nbformat_minor": 2
}

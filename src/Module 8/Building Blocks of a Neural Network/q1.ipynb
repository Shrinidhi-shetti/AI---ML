{
 "cells": [
  {
   "cell_type": "code",
   "execution_count": 3,
   "metadata": {},
   "outputs": [],
   "source": [
    "# Question 1: Understanding the Structure of a Neural Network\n",
    "# Description: Create a simple neural network with one input layer, one hidden layer, and one output layer using the Keras Sequential API, and print the model summary."
   ]
  },
  {
   "cell_type": "code",
   "execution_count": 4,
   "metadata": {},
   "outputs": [
    {
     "name": "stderr",
     "output_type": "stream",
     "text": [
      "2025-05-14 07:29:15.004421: I external/local_xla/xla/tsl/cuda/cudart_stub.cc:32] Could not find cuda drivers on your machine, GPU will not be used.\n",
      "2025-05-14 07:29:15.243765: I external/local_xla/xla/tsl/cuda/cudart_stub.cc:32] Could not find cuda drivers on your machine, GPU will not be used.\n",
      "2025-05-14 07:29:15.387194: E external/local_xla/xla/stream_executor/cuda/cuda_fft.cc:467] Unable to register cuFFT factory: Attempting to register factory for plugin cuFFT when one has already been registered\n",
      "WARNING: All log messages before absl::InitializeLog() is called are written to STDERR\n",
      "E0000 00:00:1747207755.717843   14214 cuda_dnn.cc:8579] Unable to register cuDNN factory: Attempting to register factory for plugin cuDNN when one has already been registered\n",
      "E0000 00:00:1747207755.815442   14214 cuda_blas.cc:1407] Unable to register cuBLAS factory: Attempting to register factory for plugin cuBLAS when one has already been registered\n",
      "W0000 00:00:1747207756.471830   14214 computation_placer.cc:177] computation placer already registered. Please check linkage and avoid linking the same target more than once.\n",
      "W0000 00:00:1747207756.471868   14214 computation_placer.cc:177] computation placer already registered. Please check linkage and avoid linking the same target more than once.\n",
      "W0000 00:00:1747207756.471872   14214 computation_placer.cc:177] computation placer already registered. Please check linkage and avoid linking the same target more than once.\n",
      "W0000 00:00:1747207756.471875   14214 computation_placer.cc:177] computation placer already registered. Please check linkage and avoid linking the same target more than once.\n",
      "2025-05-14 07:29:16.502099: I tensorflow/core/platform/cpu_feature_guard.cc:210] This TensorFlow binary is optimized to use available CPU instructions in performance-critical operations.\n",
      "To enable the following instructions: AVX2 FMA, in other operations, rebuild TensorFlow with the appropriate compiler flags.\n"
     ]
    },
    {
     "name": "stdout",
     "output_type": "stream",
     "text": [
      "Downloading data from https://storage.googleapis.com/tensorflow/tf-keras-datasets/mnist.npz\n",
      "\u001b[1m11490434/11490434\u001b[0m \u001b[32m━━━━━━━━━━━━━━━━━━━━\u001b[0m\u001b[37m\u001b[0m \u001b[1m2s\u001b[0m 0us/step\n",
      "Shape of training images: (60000, 28, 28)\n",
      "Number of training labels: 60000\n",
      "Shape of test images: (10000, 28, 28)\n",
      "Number of test labels: 10000\n",
      "\n",
      "Shape of normalized training images: (60000, 28, 28)\n",
      "Shape of one-hot encoded training labels: (60000, 10)\n",
      "Shape of normalized test images: (10000, 28, 28)\n",
      "Shape of one-hot encoded test labels: (10000, 10)\n",
      "\n",
      "MNIST dataset loaded and preprocessed.\n"
     ]
    }
   ],
   "source": [
    "from tensorflow.keras.datasets import mnist\n",
    "import tensorflow as tf\n",
    "\n",
    "try:\n",
    "    # Load the MNIST dataset\n",
    "    (train_images, train_labels), (test_images, test_labels) = mnist.load_data()\n",
    "\n",
    "    # Print the shapes of the loaded data to understand their structure\n",
    "    print(\"Shape of training images:\", train_images.shape)\n",
    "    print(\"Number of training labels:\", len(train_labels))\n",
    "    print(\"Shape of test images:\", test_images.shape)\n",
    "    print(\"Number of test labels:\", len(test_labels))\n",
    "\n",
    "    # You can now further preprocess the data, such as:\n",
    "    # 1. Normalizing pixel values to the range [0, 1]\n",
    "    train_images = train_images.astype('float32') / 255\n",
    "    test_images = test_images.astype('float32') / 255\n",
    "\n",
    "    # 2. One-hot encoding the labels\n",
    "    from tensorflow.keras.utils import to_categorical\n",
    "\n",
    "    num_classes = 10\n",
    "    train_labels = to_categorical(train_labels, num_classes)\n",
    "    test_labels = to_categorical(test_labels, num_classes)\n",
    "\n",
    "    # Print the shapes of the preprocessed data\n",
    "    print(\"\\nShape of normalized training images:\", train_images.shape)\n",
    "    print(\"Shape of one-hot encoded training labels:\", train_labels.shape)\n",
    "    print(\"Shape of normalized test images:\", test_images.shape)\n",
    "    print(\"Shape of one-hot encoded test labels:\", test_labels.shape)\n",
    "\n",
    "    print(\"\\nMNIST dataset loaded and preprocessed.\")\n",
    "\n",
    "except tf.errors.ConnectionError as e:\n",
    "    print(f\"Error: Failed to download the MNIST dataset. Please check your internet connection.\")\n",
    "    print(f\"Details: {e}\")\n",
    "except Exception as e:\n",
    "    print(f\"An unexpected error occurred while loading the MNIST dataset: {e}\")\n",
    "    print(\"Please check your TensorFlow installation and environment.\")"
   ]
  }
 ],
 "metadata": {
  "kernelspec": {
   "display_name": "Python 3",
   "language": "python",
   "name": "python3"
  },
  "language_info": {
   "codemirror_mode": {
    "name": "ipython",
    "version": 3
   },
   "file_extension": ".py",
   "mimetype": "text/x-python",
   "name": "python",
   "nbconvert_exporter": "python",
   "pygments_lexer": "ipython3",
   "version": "3.10.12"
  }
 },
 "nbformat": 4,
 "nbformat_minor": 2
}

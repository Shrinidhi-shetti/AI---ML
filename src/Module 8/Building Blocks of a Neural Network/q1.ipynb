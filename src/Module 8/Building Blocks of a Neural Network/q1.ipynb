{
 "cells": [
  {
   "cell_type": "code",
   "execution_count": null,
   "metadata": {},
   "outputs": [],
   "source": [
    "# Question 1: Understanding the Structure of a Neural Network\n",
    "# Description: Create a simple neural network with one input layer, one hidden layer, and one output layer using the Keras Sequential API, and print the model summary."
   ]
  },
  {
   "cell_type": "code",
   "execution_count": null,
   "metadata": {},
   "outputs": [],
   "source": [
    "from tensorflow.keras.datasets import mnist\n",
    "import tensorflow as tf\n",
    "\n",
    "try:\n",
    "    # Load the MNIST dataset\n",
    "    (train_images, train_labels), (test_images, test_labels) = mnist.load_data()\n",
    "\n",
    "    # Print the shapes of the loaded data to understand their structure\n",
    "    print(\"Shape of training images:\", train_images.shape)\n",
    "    print(\"Number of training labels:\", len(train_labels))\n",
    "    print(\"Shape of test images:\", test_images.shape)\n",
    "    print(\"Number of test labels:\", len(test_labels))\n",
    "\n",
    "    # You can now further preprocess the data, such as:\n",
    "    # 1. Normalizing pixel values to the range [0, 1]\n",
    "    train_images = train_images.astype('float32') / 255\n",
    "    test_images = test_images.astype('float32') / 255\n",
    "\n",
    "    # 2. One-hot encoding the labels\n",
    "    from tensorflow.keras.utils import to_categorical\n",
    "\n",
    "    num_classes = 10\n",
    "    train_labels = to_categorical(train_labels, num_classes)\n",
    "    test_labels = to_categorical(test_labels, num_classes)\n",
    "\n",
    "    # Print the shapes of the preprocessed data\n",
    "    print(\"\\nShape of normalized training images:\", train_images.shape)\n",
    "    print(\"Shape of one-hot encoded training labels:\", train_labels.shape)\n",
    "    print(\"Shape of normalized test images:\", test_images.shape)\n",
    "    print(\"Shape of one-hot encoded test labels:\", test_labels.shape)\n",
    "\n",
    "    print(\"\\nMNIST dataset loaded and preprocessed.\")\n",
    "\n",
    "except tf.errors.ConnectionError as e:\n",
    "    print(f\"Error: Failed to download the MNIST dataset. Please check your internet connection.\")\n",
    "    print(f\"Details: {e}\")\n",
    "except Exception as e:\n",
    "    print(f\"An unexpected error occurred while loading the MNIST dataset: {e}\")\n",
    "    print(\"Please check your TensorFlow installation and environment.\")"
   ]
  }
 ],
 "metadata": {
  "kernelspec": {
   "display_name": "Python 3",
   "language": "python",
   "name": "python3"
  },
  "language_info": {
   "codemirror_mode": {
    "name": "ipython",
    "version": 3
   },
   "file_extension": ".py",
   "mimetype": "text/x-python",
   "name": "python",
   "nbconvert_exporter": "python",
   "pygments_lexer": "ipython3",
   "version": "3.10.12"
  }
 },
 "nbformat": 4,
 "nbformat_minor": 2
}

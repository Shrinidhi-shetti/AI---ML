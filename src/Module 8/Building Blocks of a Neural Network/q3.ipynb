{
 "cells": [
  {
   "cell_type": "code",
   "execution_count": 1,
   "metadata": {},
   "outputs": [],
   "source": [
    "# Question 3: Using Different Activation Functions in Layers\n",
    "# Description: Build a network with different activation functions for different layers and analyze their effects."
   ]
  },
  {
   "cell_type": "code",
   "execution_count": null,
   "metadata": {},
   "outputs": [
    {
     "name": "stdout",
     "output_type": "stream",
     "text": [
      "Epoch 1, Loss: 0.6869\n",
      "Epoch 2, Loss: 0.6836\n",
      "Epoch 3, Loss: 0.6802\n",
      "Epoch 4, Loss: 0.6767\n",
      "Epoch 5, Loss: 0.6741\n",
      "Epoch 6, Loss: 0.6696\n",
      "Epoch 7, Loss: 0.6663\n",
      "Epoch 8, Loss: 0.6617\n",
      "Epoch 9, Loss: 0.6579\n",
      "Epoch 10, Loss: 0.6543\n",
      "Epoch 11, Loss: 0.6488\n",
      "Epoch 12, Loss: 0.6446\n",
      "Epoch 13, Loss: 0.6389\n",
      "Epoch 14, Loss: 0.6337\n",
      "Epoch 15, Loss: 0.6283\n",
      "Epoch 16, Loss: 0.6235\n",
      "Epoch 17, Loss: 0.6157\n",
      "Epoch 18, Loss: 0.6113\n",
      "Epoch 19, Loss: 0.6045\n",
      "Epoch 20, Loss: 0.5994\n"
     ]
    }
   ],
   "source": [
    "import torch\n",
    "import torch.nn as nn\n",
    "import torch.optim as optim\n",
    "from sklearn.datasets import make_classification\n",
    "from torch.utils.data import TensorDataset, DataLoader\n",
    "\n",
    "# Generate synthetic data\n",
    "X, y = make_classification(n_samples=1000, n_features=20, n_classes=2)\n",
    "X = torch.tensor(X, dtype=torch.float32)\n",
    "y = torch.tensor(y, dtype=torch.long)\n",
    "dataset = TensorDataset(X, y)\n",
    "dataloader = DataLoader(dataset, batch_size=32, shuffle=True)\n",
    "\n",
    "# Network with different activations per layer\n",
    "class CustomActivationNet(nn.Module):\n",
    "    def __init__(self):\n",
    "        super().__init__()\n",
    "        self.layer1 = nn.Linear(20, 64)\n",
    "        self.layer2 = nn.Linear(64, 32)\n",
    "        self.layer3 = nn.Linear(32, 2)\n",
    "        \n",
    "        self.relu = nn.ReLU()\n",
    "        self.tanh = nn.Tanh()\n",
    "        self.sigmoid = nn.Sigmoid()\n",
    "        \n",
    "    def forward(self, x):\n",
    "        x = self.relu(self.layer1(x))\n",
    "        x = self.tanh(self.layer2(x))\n",
    "        x = self.sigmoid(self.layer3(x))\n",
    "        return x\n",
    "\n",
    "# Training function\n",
    "def train(model, epochs=20, lr=0.01):\n",
    "    criterion = nn.CrossEntropyLoss()\n",
    "    optimizer = optim.SGD(model.parameters(), lr=lr)\n",
    "    for epoch in range(epochs):\n",
    "        total_loss = 0\n",
    "        for batch_X, batch_y in dataloader:\n",
    "            optimizer.zero_grad()\n",
    "            output = model(batch_X)\n",
    "            loss = criterion(output, batch_y)\n",
    "            loss.backward()\n",
    "            optimizer.step()\n",
    "            total_loss += loss.item()\n",
    "        print(f\"Epoch {epoch+1}, Loss: {total_loss/len(dataloader):.4f}\")\n",
    "\n",
    "# Instantiate and train\n",
    "model = CustomActivationNet()\n",
    "train(model)\n"
   ]
  }
 ],
 "metadata": {
  "kernelspec": {
   "display_name": "Python 3",
   "language": "python",
   "name": "python3"
  },
  "language_info": {
   "codemirror_mode": {
    "name": "ipython",
    "version": 3
   },
   "file_extension": ".py",
   "mimetype": "text/x-python",
   "name": "python",
   "nbconvert_exporter": "python",
   "pygments_lexer": "ipython3",
   "version": "3.10.12"
  }
 },
 "nbformat": 4,
 "nbformat_minor": 2
}

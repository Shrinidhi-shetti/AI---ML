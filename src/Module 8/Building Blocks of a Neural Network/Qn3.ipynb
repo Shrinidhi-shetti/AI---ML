{
 "cells": [
  {
   "cell_type": "code",
   "execution_count": 1,
   "metadata": {},
   "outputs": [],
   "source": [
    "# Title: Choosing the Right Neural Network Architecture\n",
    "\n",
    "\n",
    "# Task 1: Shallow vs Deep Networks\n",
    "\n",
    "# Create a shallow network with one hidden layer.\n",
    "# Train using the same dataset with a deep network having three hidden layers.\n",
    "# Compare their training and test accuracy to understand scenarios where deep networks perform better.\n",
    "\n",
    "# Task 2: Overfitting vs Underfitting\n",
    "\n",
    "# Train a model with too few neurons and epochs (underfit).\n",
    "# Increase the model complexity by adding layers and neurons (overfit).\n",
    "# Use validation data to identify the setup that balances training and validation accuracy.\n",
    "\n",
    "\n",
    "# Task 3: Using Dropout Regularization\n",
    "\n",
    "# Implement a network without dropout.\n",
    "# Add a dropout layer with a rate of 0.5 to the hidden layers.\n",
    "# Observe how dropout helps in preventing overfitting and improves generalization on unseen data.\n",
    "\n",
    "\n"
   ]
  },
  {
   "cell_type": "code",
   "execution_count": null,
   "metadata": {},
   "outputs": [
    {
     "name": "stderr",
     "output_type": "stream",
     "text": [
      "2025-05-24 04:58:19.965565: E external/local_xla/xla/stream_executor/cuda/cuda_fft.cc:467] Unable to register cuFFT factory: Attempting to register factory for plugin cuFFT when one has already been registered\n",
      "WARNING: All log messages before absl::InitializeLog() is called are written to STDERR\n",
      "E0000 00:00:1748062699.984248   20581 cuda_dnn.cc:8579] Unable to register cuDNN factory: Attempting to register factory for plugin cuDNN when one has already been registered\n",
      "E0000 00:00:1748062699.988856   20581 cuda_blas.cc:1407] Unable to register cuBLAS factory: Attempting to register factory for plugin cuBLAS when one has already been registered\n",
      "W0000 00:00:1748062700.008993   20581 computation_placer.cc:177] computation placer already registered. Please check linkage and avoid linking the same target more than once.\n",
      "W0000 00:00:1748062700.009010   20581 computation_placer.cc:177] computation placer already registered. Please check linkage and avoid linking the same target more than once.\n",
      "W0000 00:00:1748062700.009013   20581 computation_placer.cc:177] computation placer already registered. Please check linkage and avoid linking the same target more than once.\n",
      "W0000 00:00:1748062700.009016   20581 computation_placer.cc:177] computation placer already registered. Please check linkage and avoid linking the same target more than once.\n",
      "2025-05-24 04:58:20.017293: I tensorflow/core/platform/cpu_feature_guard.cc:210] This TensorFlow binary is optimized to use available CPU instructions in performance-critical operations.\n",
      "To enable the following instructions: AVX2 FMA, in other operations, rebuild TensorFlow with the appropriate compiler flags.\n"
     ]
    },
    {
     "name": "stdout",
     "output_type": "stream",
     "text": [
      "Task 1: Shallow vs Deep Networks\n"
     ]
    },
    {
     "name": "stderr",
     "output_type": "stream",
     "text": [
      "/home/vscode/.local/lib/python3.10/site-packages/keras/src/layers/reshaping/flatten.py:37: UserWarning: Do not pass an `input_shape`/`input_dim` argument to a layer. When using Sequential models, prefer using an `Input(shape)` object as the first layer in the model instead.\n",
      "  super().__init__(**kwargs)\n",
      "2025-05-24 04:58:24.054787: E external/local_xla/xla/stream_executor/cuda/cuda_platform.cc:51] failed call to cuInit: INTERNAL: CUDA error: Failed call to cuInit: UNKNOWN ERROR (303)\n"
     ]
    },
    {
     "name": "stdout",
     "output_type": "stream",
     "text": [
      "Epoch 1/10\n"
     ]
    },
    {
     "name": "stderr",
     "output_type": "stream",
     "text": [
      "2025-05-24 04:58:24.296332: W external/local_xla/xla/tsl/framework/cpu_allocator_impl.cc:83] Allocation of 188160000 exceeds 10% of free system memory.\n"
     ]
    },
    {
     "name": "stdout",
     "output_type": "stream",
     "text": [
      "938/938 - 3s - 3ms/step - accuracy: 0.9150 - loss: 0.3011 - val_accuracy: 0.9516 - val_loss: 0.1651\n",
      "Epoch 2/10\n",
      "938/938 - 2s - 2ms/step - accuracy: 0.9603 - loss: 0.1365 - val_accuracy: 0.9643 - val_loss: 0.1182\n",
      "Epoch 3/10\n",
      "938/938 - 2s - 2ms/step - accuracy: 0.9718 - loss: 0.0952 - val_accuracy: 0.9715 - val_loss: 0.0936\n",
      "Epoch 4/10\n",
      "938/938 - 2s - 2ms/step - accuracy: 0.9789 - loss: 0.0720 - val_accuracy: 0.9750 - val_loss: 0.0839\n",
      "Epoch 5/10\n",
      "938/938 - 2s - 2ms/step - accuracy: 0.9834 - loss: 0.0571 - val_accuracy: 0.9766 - val_loss: 0.0781\n",
      "Epoch 6/10\n",
      "938/938 - 2s - 2ms/step - accuracy: 0.9862 - loss: 0.0463 - val_accuracy: 0.9782 - val_loss: 0.0734\n",
      "Epoch 7/10\n",
      "938/938 - 2s - 2ms/step - accuracy: 0.9895 - loss: 0.0374 - val_accuracy: 0.9765 - val_loss: 0.0752\n",
      "Epoch 8/10\n",
      "938/938 - 2s - 2ms/step - accuracy: 0.9915 - loss: 0.0296 - val_accuracy: 0.9770 - val_loss: 0.0726\n",
      "Epoch 9/10\n",
      "938/938 - 2s - 2ms/step - accuracy: 0.9925 - loss: 0.0253 - val_accuracy: 0.9781 - val_loss: 0.0737\n",
      "Epoch 10/10\n",
      "938/938 - 2s - 3ms/step - accuracy: 0.9941 - loss: 0.0214 - val_accuracy: 0.9783 - val_loss: 0.0757\n",
      "Epoch 1/10\n"
     ]
    },
    {
     "name": "stderr",
     "output_type": "stream",
     "text": [
      "2025-05-24 04:58:46.091657: W external/local_xla/xla/tsl/framework/cpu_allocator_impl.cc:83] Allocation of 188160000 exceeds 10% of free system memory.\n"
     ]
    },
    {
     "name": "stdout",
     "output_type": "stream",
     "text": [
      "938/938 - 3s - 4ms/step - accuracy: 0.9249 - loss: 0.2567 - val_accuracy: 0.9592 - val_loss: 0.1329\n",
      "Epoch 2/10\n",
      "938/938 - 2s - 2ms/step - accuracy: 0.9677 - loss: 0.1062 - val_accuracy: 0.9685 - val_loss: 0.1026\n",
      "Epoch 3/10\n",
      "938/938 - 2s - 3ms/step - accuracy: 0.9768 - loss: 0.0751 - val_accuracy: 0.9753 - val_loss: 0.0829\n",
      "Epoch 4/10\n",
      "938/938 - 2s - 3ms/step - accuracy: 0.9814 - loss: 0.0580 - val_accuracy: 0.9760 - val_loss: 0.0800\n",
      "Epoch 5/10\n",
      "938/938 - 2s - 2ms/step - accuracy: 0.9853 - loss: 0.0452 - val_accuracy: 0.9758 - val_loss: 0.0843\n",
      "Epoch 6/10\n",
      "938/938 - 2s - 2ms/step - accuracy: 0.9875 - loss: 0.0375 - val_accuracy: 0.9770 - val_loss: 0.0874\n",
      "Epoch 7/10\n",
      "938/938 - 2s - 2ms/step - accuracy: 0.9892 - loss: 0.0327 - val_accuracy: 0.9766 - val_loss: 0.0893\n",
      "Epoch 8/10\n",
      "938/938 - 2s - 2ms/step - accuracy: 0.9918 - loss: 0.0244 - val_accuracy: 0.9740 - val_loss: 0.0965\n",
      "Epoch 9/10\n",
      "938/938 - 2s - 2ms/step - accuracy: 0.9923 - loss: 0.0235 - val_accuracy: 0.9749 - val_loss: 0.0932\n",
      "Epoch 10/10\n",
      "938/938 - 2s - 3ms/step - accuracy: 0.9928 - loss: 0.0223 - val_accuracy: 0.9796 - val_loss: 0.0792\n",
      "\n",
      "Task 2: Overfitting vs Underfitting\n",
      "Epoch 1/5\n"
     ]
    },
    {
     "name": "stderr",
     "output_type": "stream",
     "text": [
      "2025-05-24 04:59:10.522360: W external/local_xla/xla/tsl/framework/cpu_allocator_impl.cc:83] Allocation of 188160000 exceeds 10% of free system memory.\n"
     ]
    },
    {
     "name": "stdout",
     "output_type": "stream",
     "text": [
      "938/938 - 2s - 2ms/step - accuracy: 0.8640 - loss: 0.5045 - val_accuracy: 0.9136 - val_loss: 0.2969\n",
      "Epoch 2/5\n",
      "938/938 - 1s - 1ms/step - accuracy: 0.9208 - loss: 0.2777 - val_accuracy: 0.9278 - val_loss: 0.2486\n",
      "Epoch 3/5\n",
      "938/938 - 1s - 1ms/step - accuracy: 0.9313 - loss: 0.2432 - val_accuracy: 0.9338 - val_loss: 0.2303\n",
      "Epoch 4/5\n",
      "938/938 - 1s - 1ms/step - accuracy: 0.9370 - loss: 0.2208 - val_accuracy: 0.9356 - val_loss: 0.2187\n",
      "Epoch 5/5\n",
      "938/938 - 1s - 1ms/step - accuracy: 0.9423 - loss: 0.2026 - val_accuracy: 0.9422 - val_loss: 0.1984\n",
      "Epoch 1/20\n"
     ]
    },
    {
     "name": "stderr",
     "output_type": "stream",
     "text": [
      "2025-05-24 04:59:17.763681: W external/local_xla/xla/tsl/framework/cpu_allocator_impl.cc:83] Allocation of 188160000 exceeds 10% of free system memory.\n"
     ]
    },
    {
     "name": "stdout",
     "output_type": "stream",
     "text": [
      "938/938 - 7s - 7ms/step - accuracy: 0.9419 - loss: 0.1920 - val_accuracy: 0.9706 - val_loss: 0.0941\n",
      "Epoch 2/20\n",
      "938/938 - 10s - 11ms/step - accuracy: 0.9756 - loss: 0.0773 - val_accuracy: 0.9743 - val_loss: 0.0833\n",
      "Epoch 3/20\n",
      "938/938 - 6s - 7ms/step - accuracy: 0.9834 - loss: 0.0499 - val_accuracy: 0.9771 - val_loss: 0.0751\n",
      "Epoch 4/20\n",
      "938/938 - 6s - 7ms/step - accuracy: 0.9880 - loss: 0.0374 - val_accuracy: 0.9758 - val_loss: 0.0815\n",
      "Epoch 5/20\n",
      "938/938 - 10s - 11ms/step - accuracy: 0.9898 - loss: 0.0315 - val_accuracy: 0.9778 - val_loss: 0.0829\n",
      "Epoch 6/20\n",
      "938/938 - 6s - 7ms/step - accuracy: 0.9918 - loss: 0.0256 - val_accuracy: 0.9797 - val_loss: 0.0760\n",
      "Epoch 7/20\n",
      "938/938 - 6s - 7ms/step - accuracy: 0.9927 - loss: 0.0222 - val_accuracy: 0.9735 - val_loss: 0.1039\n",
      "Epoch 8/20\n",
      "938/938 - 6s - 7ms/step - accuracy: 0.9938 - loss: 0.0189 - val_accuracy: 0.9802 - val_loss: 0.0838\n",
      "Epoch 9/20\n",
      "938/938 - 6s - 7ms/step - accuracy: 0.9941 - loss: 0.0166 - val_accuracy: 0.9774 - val_loss: 0.1082\n",
      "Epoch 10/20\n",
      "938/938 - 6s - 7ms/step - accuracy: 0.9952 - loss: 0.0149 - val_accuracy: 0.9832 - val_loss: 0.0812\n",
      "Epoch 11/20\n",
      "938/938 - 10s - 11ms/step - accuracy: 0.9957 - loss: 0.0132 - val_accuracy: 0.9818 - val_loss: 0.0930\n",
      "Epoch 12/20\n",
      "938/938 - 6s - 7ms/step - accuracy: 0.9952 - loss: 0.0144 - val_accuracy: 0.9818 - val_loss: 0.0842\n",
      "Epoch 13/20\n",
      "938/938 - 6s - 7ms/step - accuracy: 0.9966 - loss: 0.0109 - val_accuracy: 0.9797 - val_loss: 0.0988\n",
      "Epoch 14/20\n",
      "938/938 - 6s - 7ms/step - accuracy: 0.9959 - loss: 0.0124 - val_accuracy: 0.9781 - val_loss: 0.1089\n",
      "Epoch 15/20\n",
      "938/938 - 7s - 7ms/step - accuracy: 0.9968 - loss: 0.0104 - val_accuracy: 0.9785 - val_loss: 0.1145\n",
      "Epoch 16/20\n",
      "938/938 - 10s - 11ms/step - accuracy: 0.9972 - loss: 0.0094 - val_accuracy: 0.9816 - val_loss: 0.0987\n",
      "Epoch 17/20\n",
      "938/938 - 10s - 11ms/step - accuracy: 0.9973 - loss: 0.0102 - val_accuracy: 0.9813 - val_loss: 0.1030\n",
      "Epoch 18/20\n",
      "938/938 - 6s - 7ms/step - accuracy: 0.9973 - loss: 0.0087 - val_accuracy: 0.9778 - val_loss: 0.1315\n",
      "Epoch 19/20\n",
      "938/938 - 6s - 7ms/step - accuracy: 0.9970 - loss: 0.0113 - val_accuracy: 0.9814 - val_loss: 0.1063\n",
      "Epoch 20/20\n",
      "938/938 - 6s - 7ms/step - accuracy: 0.9970 - loss: 0.0108 - val_accuracy: 0.9848 - val_loss: 0.0828\n",
      "\n",
      "Task 3: Dropout Regularization\n",
      "Epoch 1/15\n"
     ]
    },
    {
     "name": "stderr",
     "output_type": "stream",
     "text": [
      "2025-05-24 05:01:47.344067: W external/local_xla/xla/tsl/framework/cpu_allocator_impl.cc:83] Allocation of 188160000 exceeds 10% of free system memory.\n"
     ]
    },
    {
     "name": "stdout",
     "output_type": "stream",
     "text": [
      "938/938 - 4s - 4ms/step - accuracy: 0.9361 - loss: 0.2176 - val_accuracy: 0.9628 - val_loss: 0.1156\n",
      "Epoch 2/15\n",
      "938/938 - 3s - 3ms/step - accuracy: 0.9743 - loss: 0.0845 - val_accuracy: 0.9757 - val_loss: 0.0755\n",
      "Epoch 3/15\n",
      "938/938 - 3s - 3ms/step - accuracy: 0.9821 - loss: 0.0568 - val_accuracy: 0.9761 - val_loss: 0.0736\n",
      "Epoch 4/15\n",
      "938/938 - 3s - 3ms/step - accuracy: 0.9863 - loss: 0.0427 - val_accuracy: 0.9760 - val_loss: 0.0773\n",
      "Epoch 5/15\n",
      "938/938 - 3s - 3ms/step - accuracy: 0.9892 - loss: 0.0334 - val_accuracy: 0.9752 - val_loss: 0.0775\n",
      "Epoch 6/15\n",
      "938/938 - 3s - 3ms/step - accuracy: 0.9910 - loss: 0.0265 - val_accuracy: 0.9797 - val_loss: 0.0759\n",
      "Epoch 7/15\n",
      "938/938 - 3s - 3ms/step - accuracy: 0.9917 - loss: 0.0243 - val_accuracy: 0.9802 - val_loss: 0.0785\n",
      "Epoch 8/15\n",
      "938/938 - 5s - 5ms/step - accuracy: 0.9942 - loss: 0.0180 - val_accuracy: 0.9786 - val_loss: 0.0783\n",
      "Epoch 9/15\n",
      "938/938 - 3s - 3ms/step - accuracy: 0.9943 - loss: 0.0163 - val_accuracy: 0.9804 - val_loss: 0.0761\n",
      "Epoch 10/15\n",
      "938/938 - 3s - 3ms/step - accuracy: 0.9950 - loss: 0.0155 - val_accuracy: 0.9799 - val_loss: 0.0859\n",
      "Epoch 11/15\n",
      "938/938 - 3s - 3ms/step - accuracy: 0.9954 - loss: 0.0139 - val_accuracy: 0.9769 - val_loss: 0.1047\n",
      "Epoch 12/15\n",
      "938/938 - 3s - 3ms/step - accuracy: 0.9954 - loss: 0.0141 - val_accuracy: 0.9820 - val_loss: 0.0825\n",
      "Epoch 13/15\n",
      "938/938 - 3s - 3ms/step - accuracy: 0.9965 - loss: 0.0108 - val_accuracy: 0.9820 - val_loss: 0.0962\n",
      "Epoch 14/15\n",
      "938/938 - 5s - 5ms/step - accuracy: 0.9966 - loss: 0.0101 - val_accuracy: 0.9796 - val_loss: 0.0961\n",
      "Epoch 15/15\n",
      "938/938 - 3s - 3ms/step - accuracy: 0.9966 - loss: 0.0106 - val_accuracy: 0.9809 - val_loss: 0.0981\n",
      "Epoch 1/15\n",
      "938/938 - 4s - 5ms/step - accuracy: 0.8737 - loss: 0.4119 - val_accuracy: 0.9543 - val_loss: 0.1474\n",
      "Epoch 2/15\n",
      "938/938 - 3s - 4ms/step - accuracy: 0.9384 - loss: 0.2053 - val_accuracy: 0.9678 - val_loss: 0.1060\n",
      "Epoch 3/15\n",
      "938/938 - 4s - 4ms/step - accuracy: 0.9509 - loss: 0.1637 - val_accuracy: 0.9705 - val_loss: 0.0930\n",
      "Epoch 4/15\n",
      "938/938 - 4s - 4ms/step - accuracy: 0.9552 - loss: 0.1466 - val_accuracy: 0.9746 - val_loss: 0.0833\n",
      "Epoch 5/15\n",
      "938/938 - 3s - 4ms/step - accuracy: 0.9618 - loss: 0.1286 - val_accuracy: 0.9757 - val_loss: 0.0794\n",
      "Epoch 6/15\n",
      "938/938 - 4s - 4ms/step - accuracy: 0.9645 - loss: 0.1177 - val_accuracy: 0.9782 - val_loss: 0.0708\n",
      "Epoch 7/15\n",
      "938/938 - 4s - 4ms/step - accuracy: 0.9665 - loss: 0.1113 - val_accuracy: 0.9775 - val_loss: 0.0806\n",
      "Epoch 8/15\n",
      "938/938 - 3s - 4ms/step - accuracy: 0.9671 - loss: 0.1079 - val_accuracy: 0.9790 - val_loss: 0.0723\n",
      "Epoch 9/15\n",
      "938/938 - 3s - 4ms/step - accuracy: 0.9704 - loss: 0.0980 - val_accuracy: 0.9789 - val_loss: 0.0745\n",
      "Epoch 10/15\n",
      "938/938 - 3s - 4ms/step - accuracy: 0.9705 - loss: 0.0963 - val_accuracy: 0.9791 - val_loss: 0.0720\n",
      "Epoch 11/15\n",
      "938/938 - 4s - 4ms/step - accuracy: 0.9721 - loss: 0.0925 - val_accuracy: 0.9805 - val_loss: 0.0661\n",
      "Epoch 12/15\n",
      "938/938 - 4s - 4ms/step - accuracy: 0.9726 - loss: 0.0891 - val_accuracy: 0.9794 - val_loss: 0.0701\n",
      "Epoch 13/15\n",
      "938/938 - 4s - 4ms/step - accuracy: 0.9735 - loss: 0.0854 - val_accuracy: 0.9785 - val_loss: 0.0711\n",
      "Epoch 14/15\n",
      "938/938 - 3s - 4ms/step - accuracy: 0.9731 - loss: 0.0872 - val_accuracy: 0.9786 - val_loss: 0.0662\n",
      "Epoch 15/15\n",
      "938/938 - 4s - 4ms/step - accuracy: 0.9756 - loss: 0.0786 - val_accuracy: 0.9805 - val_loss: 0.0678\n"
     ]
    },
    {
     "data": {
      "image/png": "[encoded data removed]",
      "text/plain": [
       "<Figure size 640x480 with 1 Axes>"
      ]
     },
     "metadata": {},
     "output_type": "display_data"
    }
   ],
   "source": [
    "import tensorflow as tf\n",
    "from tensorflow.keras.datasets import mnist\n",
    "from tensorflow.keras.models import Sequential\n",
    "from tensorflow.keras.layers import Flatten, Dense, Dropout\n",
    "from tensorflow.keras.utils import to_categorical\n",
    "import matplotlib.pyplot as plt\n",
    "\n",
    "# Load and preprocess data\n",
    "(X_train, y_train), (X_test, y_test) = mnist.load_data()\n",
    "X_train = X_train.astype(\"float32\") / 255.0\n",
    "X_test = X_test.astype(\"float32\") / 255.0\n",
    "y_train = to_categorical(y_train, 10)\n",
    "y_test = to_categorical(y_test, 10)\n",
    "\n",
    "def build_model(layers_config, use_dropout=False, dropout_rate=0.5):\n",
    "    model = Sequential()\n",
    "    model.add(Flatten(input_shape=(28, 28)))\n",
    "    \n",
    "    for units in layers_config:\n",
    "        model.add(Dense(units, activation='relu'))\n",
    "        if use_dropout:\n",
    "            model.add(Dropout(dropout_rate))\n",
    "    \n",
    "    model.add(Dense(10, activation='softmax'))\n",
    "    model.compile(optimizer='adam', loss='categorical_crossentropy', metrics=['accuracy'])\n",
    "    return model\n",
    "\n",
    "# Task 1: Shallow vs Deep Networks\n",
    "print(\"Task 1: Shallow vs Deep Networks\")\n",
    "\n",
    "shallow_model = build_model([128], use_dropout=False)\n",
    "deep_model = build_model([128, 128, 128], use_dropout=False)\n",
    "\n",
    "history_shallow = shallow_model.fit(X_train, y_train, epochs=10, batch_size=64,\n",
    "                                    validation_data=(X_test, y_test), verbose=2)\n",
    "history_deep = deep_model.fit(X_train, y_train, epochs=10, batch_size=64,\n",
    "                              validation_data=(X_test, y_test), verbose=2)\n",
    "\n",
    "# Task 2: Overfitting vs Underfitting\n",
    "print(\"\\nTask 2: Overfitting vs Underfitting\")\n",
    "\n",
    "# Underfitting: too small network, few epochs\n",
    "underfit_model = build_model([16], use_dropout=False)\n",
    "history_underfit = underfit_model.fit(X_train, y_train, epochs=5, batch_size=64,\n",
    "                                     validation_data=(X_test, y_test), verbose=2)\n",
    "\n",
    "# Overfitting: large network, many epochs, no dropout\n",
    "overfit_model = build_model([512, 512], use_dropout=False)\n",
    "history_overfit = overfit_model.fit(X_train, y_train, epochs=20, batch_size=64,\n",
    "                                   validation_data=(X_test, y_test), verbose=2)\n",
    "\n",
    "# Task 3: Using Dropout Regularization\n",
    "print(\"\\nTask 3: Dropout Regularization\")\n",
    "\n",
    "# Without dropout\n",
    "no_dropout_model = build_model([256, 256], use_dropout=False)\n",
    "history_no_dropout = no_dropout_model.fit(X_train, y_train, epochs=15, batch_size=64,\n",
    "                                          validation_data=(X_test, y_test), verbose=2)\n",
    "\n",
    "# With dropout\n",
    "dropout_model = build_model([256, 256], use_dropout=True, dropout_rate=0.5)\n",
    "history_dropout = dropout_model.fit(X_train, y_train, epochs=15, batch_size=64,\n",
    "                                   validation_data=(X_test, y_test), verbose=2)\n",
    "\n",
    "# Optional: Plot validation accuracy comparison for dropout vs no dropout\n",
    "plt.plot(history_no_dropout.history['val_accuracy'], label='No Dropout')\n",
    "plt.plot(history_dropout.history['val_accuracy'], label='Dropout 0.5')\n",
    "plt.title('Validation Accuracy: Dropout vs No Dropout')\n",
    "plt.xlabel('Epochs')\n",
    "plt.ylabel('Accuracy')\n",
    "plt.legend()\n",
    "plt.show()\n"
   ]
  }
 ],
 "metadata": {
  "kernelspec": {
   "display_name": "Python 3",
   "language": "python",
   "name": "python3"
  },
  "language_info": {
   "codemirror_mode": {
    "name": "ipython",
    "version": 3
   },
   "file_extension": ".py",
   "mimetype": "text/x-python",
   "name": "python",
   "nbconvert_exporter": "python",
   "pygments_lexer": "ipython3",
   "version": "3.10.12"
  }
 },
 "nbformat": 4,
 "nbformat_minor": 2
}

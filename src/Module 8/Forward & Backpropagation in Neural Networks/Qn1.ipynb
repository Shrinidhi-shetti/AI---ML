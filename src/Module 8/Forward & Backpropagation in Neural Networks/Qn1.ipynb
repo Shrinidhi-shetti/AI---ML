{
 "cells": [
  {
   "cell_type": "code",
   "execution_count": 1,
   "metadata": {},
   "outputs": [],
   "source": [
    "# Title: Matrix Operations in Neural Networks\n",
    "\n",
    "# Task 1: Matrix Multiplication (Input and Weights Matrix)\n",
    "# Given an input vector ( X = \\begin{bmatrix} 0.5 & 1.0 \\end{bmatrix} ) and weight matrix ( W = \\begin{bmatrix} 0.2 & 0.3 \\ 0.4 & 0.1 \\end{bmatrix} ), calculate the weighted sum.\n",
    "\n",
    "# Task 2: Adding Bias Vector\n",
    "# Use the result from Example 1 and add a bias vector ( B = \\begin{bmatrix} 0.1 & 0.2 \\end{bmatrix} ).\n",
    "\n",
    "# Task 3: Transpose Operation\n",
    "# Find the transpose of the weight matrix ( W ) from Example 1.\n",
    "\n",
    "\n",
    "\n",
    "# Title: Activation Functions\n",
    "\n",
    "# Task 1: Sigmoid Function\n",
    "# Calculate the sigmoid activation for ( z_1 = 0.7 ) from the previous example.\n",
    "\n",
    "# Example 2: ReLU Function\n",
    "# Calculate the ReLU activation for ( z_2 = 0.55 ).\n",
    "\n",
    "# Example 3: Softmax Function\n",
    "# For a vector ( Z = \\begin{bmatrix} 1.0 & 0.5 & 0.2 \\end{bmatrix} ), calculate the softmax.\n"
   ]
  },
  {
   "cell_type": "code",
   "execution_count": null,
   "metadata": {},
   "outputs": [
    {
     "name": "stdout",
     "output_type": "stream",
     "text": [
      "Task 1 - Weighted Sum (X * W): [[0.5  0.25]]\n",
      "Task 2 - After Adding Bias: [[0.6  0.45]]\n",
      "Task 3 - Transpose of W:\n",
      " [[0.2 0.4]\n",
      " [0.3 0.1]]\n",
      "Sigmoid(0.7): 0.6681877721681662\n",
      "ReLU(0.55): 0.55\n",
      "Softmax([1.0, 0.5, 0.2]): [0.48641453 0.29502533 0.21856014]\n"
     ]
    }
   ],
   "source": [
    "import numpy as np\n",
    "\n",
    "# --- Matrix Operations in Neural Networks ---\n",
    "\n",
    "# Task 1: Matrix Multiplication (Input * Weights)\n",
    "X = np.array([[0.5, 1.0]])  # Shape: (1, 2)\n",
    "W = np.array([[0.2, 0.3],\n",
    "              [0.4, 0.1]])  # Shape: (2, 2)\n",
    "weighted_sum = np.dot(X, W)\n",
    "print(\"Task 1 - Weighted Sum (X * W):\", weighted_sum)\n",
    "\n",
    "# Task 2: Adding Bias Vector\n",
    "B = np.array([[0.1, 0.2]])  # Shape: (1, 2)\n",
    "output_with_bias = weighted_sum + B\n",
    "print(\"Task 2 - After Adding Bias:\", output_with_bias)\n",
    "\n",
    "# Task 3: Transpose Operation\n",
    "W_transpose = W.T\n",
    "print(\"Task 3 - Transpose of W:\\n\", W_transpose)\n",
    "\n",
    "# --- Activation Functions ---\n",
    "\n",
    "# Task 1: Sigmoid Function\n",
    "def sigmoid(z):\n",
    "    return 1 / (1 + np.exp(-z))\n",
    "\n",
    "z1 = 0.7\n",
    "sigmoid_result = sigmoid(z1)\n",
    "print(\"Sigmoid(0.7):\", sigmoid_result)\n",
    "\n",
    "# Example 2: ReLU Function\n",
    "def relu(z):\n",
    "    return np.maximum(0, z)\n",
    "\n",
    "z2 = 0.55\n",
    "relu_result = relu(z2)\n",
    "print(\"ReLU(0.55):\", relu_result)\n",
    "\n",
    "# Example 3: Softmax Function\n",
    "def softmax(z):\n",
    "    e_z = np.exp(z - np.max(z))  # subtract max for numerical stability\n",
    "    return e_z / e_z.sum()\n",
    "\n",
    "Z = np.array([1.0, 0.5, 0.2])\n",
    "softmax_result = softmax(Z)\n",
    "print(\"Softmax([1.0, 0.5, 0.2]):\", softmax_result)\n"
   ]
  }
 ],
 "metadata": {
  "kernelspec": {
   "display_name": "Python 3",
   "language": "python",
   "name": "python3"
  },
  "language_info": {
   "codemirror_mode": {
    "name": "ipython",
    "version": 3
   },
   "file_extension": ".py",
   "mimetype": "text/x-python",
   "name": "python",
   "nbconvert_exporter": "python",
   "pygments_lexer": "ipython3",
   "version": "3.10.12"
  }
 },
 "nbformat": 4,
 "nbformat_minor": 2
}

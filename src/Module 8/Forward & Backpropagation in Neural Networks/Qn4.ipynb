{
 "cells": [
  {
   "cell_type": "code",
   "execution_count": 1,
   "metadata": {},
   "outputs": [],
   "source": [
    "# Optimizers\n",
    "\n",
    "# Task 1: Adam Optimizer Overview\n",
    "# Given parameter ( \\theta = 0.5 ), use Adam to adaptively update this parameter. Assume ( m_t = 0, v_t = 0, \\beta_1 = 0.9, \\beta_2 = 0.999, \\epsilon = 10^{-8} ).\n",
    "\n",
    "# Task 2: Exponential Moving Averages (EMA)\n",
    "# Calculate EMA over gradients with (\\beta_1 = 0.9) for (g_1 = -0.5) and (g_2 = 0.2).\n",
    "    \n",
    "# Task 3: Adam Update Rule\n",
    "# Perform an Adam update for ( t=2 ), where (g_1 = -0.5), (g_2 = 0.2), with given ( \\beta_1 ) and ( \\beta_2 ).\n"
   ]
  },
  {
   "cell_type": "code",
   "execution_count": null,
   "metadata": {},
   "outputs": [
    {
     "name": "stdout",
     "output_type": "stream",
     "text": [
      "Task 2 - EMA m1: -0.0500, EMA m2: -0.0250\n",
      "Task 3 - Updated θ after Adam at t=2: 0.50346\n"
     ]
    }
   ],
   "source": [
    "import numpy as np\n",
    "\n",
    "# Task 1: Initialize\n",
    "theta = 0.5\n",
    "m = 0\n",
    "v = 0\n",
    "beta1 = 0.9\n",
    "beta2 = 0.999\n",
    "epsilon = 1e-8\n",
    "alpha = 0.01  # learning rate\n",
    "\n",
    "# Task 2: EMA over gradients\n",
    "g1 = -0.5\n",
    "g2 = 0.2\n",
    "\n",
    "m1 = beta1 * m + (1 - beta1) * g1\n",
    "m2 = beta1 * m1 + (1 - beta1) * g2\n",
    "print(f\"Task 2 - EMA m1: {m1:.4f}, EMA m2: {m2:.4f}\")\n",
    "\n",
    "# Task 3: Adam update at t=2\n",
    "# First moment (m_t)\n",
    "m = m2\n",
    "\n",
    "# Second moment (v_t): using squared gradients\n",
    "v1 = beta2 * v + (1 - beta2) * (g1 ** 2)\n",
    "v2 = beta2 * v1 + (1 - beta2) * (g2 ** 2)\n",
    "m_hat = m / (1 - beta1**2)\n",
    "v_hat = v2 / (1 - beta2**2)\n",
    "\n",
    "# Adam parameter update\n",
    "theta_updated = theta - alpha * m_hat / (np.sqrt(v_hat) + epsilon)\n",
    "print(f\"Task 3 - Updated θ after Adam at t=2: {theta_updated:.5f}\")\n"
   ]
  }
 ],
 "metadata": {
  "kernelspec": {
   "display_name": "Python 3",
   "language": "python",
   "name": "python3"
  },
  "language_info": {
   "codemirror_mode": {
    "name": "ipython",
    "version": 3
   },
   "file_extension": ".py",
   "mimetype": "text/x-python",
   "name": "python",
   "nbconvert_exporter": "python",
   "pygments_lexer": "ipython3",
   "version": "3.10.12"
  }
 },
 "nbformat": 4,
 "nbformat_minor": 2
}

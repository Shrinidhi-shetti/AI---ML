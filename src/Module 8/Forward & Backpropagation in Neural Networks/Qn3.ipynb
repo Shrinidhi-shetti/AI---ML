{
 "cells": [
  {
   "cell_type": "code",
   "execution_count": 1,
   "metadata": {},
   "outputs": [],
   "source": [
    "# Title: Backpropagation\n",
    "\n",
    "# Task 1: Gradient Descent Calculation\n",
    "# Given a loss function ( L = (y - \\hat{y})^2 ), find the gradient with respect to a single parameter ( \\theta ).\n",
    "\n",
    "# Task 2: Loss Function\n",
    "# Assume true label ( y = 1 ) and prediction ( \\hat{y} = 0.6 ). Calculate the mean squared error (MSE).\n",
    "\n",
    "# Task 3: Optimization with Stochastic Gradient Descent (SGD)\n",
    "# Perform one step of SGD update for parameter ( \\theta = 0.5 ) with a learning rate of 0.1 and gradient from Example 1, where (\\frac{\\partial L}{\\partial \\theta} = -0.32).\n",
    "                                                   \n"
   ]
  },
  {
   "cell_type": "code",
   "execution_count": null,
   "metadata": {},
   "outputs": [
    {
     "name": "stdout",
     "output_type": "stream",
     "text": [
      "Task 2 - Mean Squared Error (MSE): 0.160\n",
      "Task 1 - Gradient dL/dy_hat: -0.800\n",
      "Task 3 - Updated theta after SGD: 0.532\n"
     ]
    }
   ],
   "source": [
    "# Task 1: Gradient Calculation (symbolic for understanding)\n",
    "def gradient_loss(y, y_hat):\n",
    "    # dL/dy_hat = -2(y - y_hat)\n",
    "    return -2 * (y - y_hat)\n",
    "\n",
    "# Task 2: Mean Squared Error Calculation\n",
    "y = 1\n",
    "y_hat = 0.6\n",
    "mse = (y - y_hat) ** 2\n",
    "print(f\"Task 2 - Mean Squared Error (MSE): {mse:.3f}\")\n",
    "\n",
    "# Task 1: Gradient w.r.t y_hat\n",
    "grad = gradient_loss(y, y_hat)\n",
    "print(f\"Task 1 - Gradient dL/dy_hat: {grad:.3f}\")\n",
    "\n",
    "# Task 3: SGD Update\n",
    "theta = 0.5\n",
    "learning_rate = 0.1\n",
    "# Provided gradient with respect to theta\n",
    "grad_theta = -0.32\n",
    "theta_updated = theta - learning_rate * grad_theta\n",
    "print(f\"Task 3 - Updated theta after SGD: {theta_updated:.3f}\")\n"
   ]
  }
 ],
 "metadata": {
  "kernelspec": {
   "display_name": "Python 3",
   "language": "python",
   "name": "python3"
  },
  "language_info": {
   "codemirror_mode": {
    "name": "ipython",
    "version": 3
   },
   "file_extension": ".py",
   "mimetype": "text/x-python",
   "name": "python",
   "nbconvert_exporter": "python",
   "pygments_lexer": "ipython3",
   "version": "3.10.12"
  }
 },
 "nbformat": 4,
 "nbformat_minor": 2
}

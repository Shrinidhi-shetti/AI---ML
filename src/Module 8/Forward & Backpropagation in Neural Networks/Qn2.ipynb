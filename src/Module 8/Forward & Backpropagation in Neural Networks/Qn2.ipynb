{
 "cells": [
  {
   "cell_type": "code",
   "execution_count": 1,
   "metadata": {},
   "outputs": [],
   "source": [
    "# Title: Forward Propagation\n",
    "\n",
    "# Example 1: Weighted Sum Calculation\n",
    "# Using inputs ( X = \\begin{bmatrix} 0.5 & 0.9 \\end{bmatrix} ) and weights ( W =\n",
    "# \\begin{bmatrix} 0.6 & 0.8 \\end{bmatrix} ), calculate the weighted sum.\n",
    "\n",
    "# Example 2: Activation Calculation (with Tanh)\n",
    "# Calculate the tanh activation for the weighted sum from Example 1.\n",
    "    \n",
    "# Example 3: Output Calculation (with Softmax)\n",
    "# For outputs ( Z = \\begin{bmatrix} 2.0 & 1.0 \\end{bmatrix} ), calculate the softmax.\n",
    "\n"
   ]
  },
  {
   "cell_type": "code",
   "execution_count": null,
   "metadata": {},
   "outputs": [
    {
     "name": "stdout",
     "output_type": "stream",
     "text": [
      "Weighted Sum (z) = 1.020\n",
      "Activated Output (tanh(z)) = 0.770\n",
      "Softmax Output = [0.73105858 0.26894142]\n"
     ]
    }
   ],
   "source": [
    "import numpy as np\n",
    "\n",
    "# Example 1: Weighted Sum Calculation\n",
    "X = np.array([0.5, 0.9])\n",
    "W = np.array([0.6, 0.8])\n",
    "\n",
    "# Dot product (weighted sum)\n",
    "z = np.dot(X, W)\n",
    "print(f\"Weighted Sum (z) = {z:.3f}\")\n",
    "\n",
    "# Example 2: Activation Calculation (with Tanh)\n",
    "a = np.tanh(z)\n",
    "print(f\"Activated Output (tanh(z)) = {a:.3f}\")\n",
    "\n",
    "# Example 3: Output Calculation (with Softmax)\n",
    "Z = np.array([2.0, 1.0])\n",
    "\n",
    "# Softmax calculation\n",
    "def softmax(x):\n",
    "    exp_x = np.exp(x - np.max(x))  # for numerical stability\n",
    "    return exp_x / np.sum(exp_x)\n",
    "\n",
    "softmax_output = softmax(Z)\n",
    "print(f\"Softmax Output = {softmax_output}\")\n"
   ]
  }
 ],
 "metadata": {
  "kernelspec": {
   "display_name": "Python 3",
   "language": "python",
   "name": "python3"
  },
  "language_info": {
   "codemirror_mode": {
    "name": "ipython",
    "version": 3
   },
   "file_extension": ".py",
   "mimetype": "text/x-python",
   "name": "python",
   "nbconvert_exporter": "python",
   "pygments_lexer": "ipython3",
   "version": "3.10.12"
  }
 },
 "nbformat": 4,
 "nbformat_minor": 2
}

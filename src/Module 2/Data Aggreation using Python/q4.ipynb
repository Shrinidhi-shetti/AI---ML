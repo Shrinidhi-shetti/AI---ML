{
 "cells": [
  {
   "cell_type": "markdown",
   "metadata": {},
   "source": [
    "Title: Hands-on: Real-World Data Aggregation<br>\n",
    "Objective: Apply learned concepts to real-world data scenarios"
   ]
  },
  {
   "cell_type": "markdown",
   "metadata": {},
   "source": [
    "Task 1: Analyzing Sales by Region<br>\n",
    "\n",
    "Task: Use a real-world sales dataset to calculate yearly sales trends by region.<br>\n",
    " Steps:<br>\n",
    " 28. Acquire a dataset containing columns such as 'date', 'region', and 'sales'.<br>\n",
    " 29. Extract the year from the 'date' column.<br>\n",
    " 30. Group by 'year' and 'region' to apply the sum aggregation on 'sales'"
   ]
  },
  {
   "cell_type": "code",
   "execution_count": null,
   "metadata": {},
   "outputs": [],
   "source": [
    "# Write your code from here\n",
    "import pandas as pd\n",
    "data={'date':['2020-01-01','2020-02-01','2021-01-01','2021-02-01','2022-01-01'],\n",
    "      'region':['East','West','East','West','East'],\n",
    "      'sales':[100,200,150,120,180]}\n",
    "df=pd.DataFrame(data)\n",
    "df['year'] = pd.to_datetime(df['date']).dt.year\n",
    "grouped_sales = df.groupby(['year', 'region'])['sales'].sum()\n",
    "print(grouped_sales)\n"
   ]
  },
  {
   "cell_type": "markdown",
   "metadata": {},
   "source": [
    "Task 2: Customer Purchase Patterns<br>\n",
    "\n",
    "Task: Find the top 5 customers by the total amount spent using a purchases dataset.<br>\n",
    " Steps:<br>\n",
    " 31. Load a dataset with 'customer_id' and 'amount_spent'.<br>\n",
    " 32. Group by 'customer_id'.<br>\n",
    " 33. Use .sum() on 'amount_spent' and sort values"
   ]
  },
  {
   "cell_type": "code",
   "execution_count": null,
   "metadata": {},
   "outputs": [],
   "source": [
    "# Write your code from here\n",
    "import pandas as pd\n",
    "data={'customer_id':[1,2,3,4,5,1,2,3,4,5],'amount_spent':[100,200,150,120,180,250,300,50,80,60]}\n",
    "df=pd.DataFrame(data)\n",
    "total_spent = df.groupby('customer_id')['amount_spent'].sum().sort_values(ascending=False)\n",
    "top_5_customers = total_spent.head(5)\n",
    "print(top_5_customers)\n"
   ]
  },
  {
   "cell_type": "markdown",
   "metadata": {},
   "source": [
    " Task 3: Seasonality Analysis<br>\n",
    "\n",
    " Task: Determine which months have the highest and lowest sales for a retail dataset.<br>\n",
    " Steps:<br>\n",
    " 34. Use a dataset with 'transaction_date' and 'sales'.<br>\n",
    " 35. Extract the month from 'transaction_date'.<br>\n",
    " 36. Group by 'month' and sum 'sales', then sort to find extremes"
   ]
  },
  {
   "cell_type": "code",
   "execution_count": null,
   "metadata": {},
   "outputs": [],
   "source": [
    "# Write your code from here\n",
    "import pandas as pd\n",
    "data={'transaction_date':['2020-01-15','2020-02-20','2020-03-10','2020-01-25','2020-02-15'],\n",
    "      'sales':[100,200,150,120,180]}\n",
    "df=pd.DataFrame(data)\n",
    "df['month'] = pd.to_datetime(df['transaction_date']).dt.month\n",
    "monthly_sales = df.groupby('month')['sales'].sum().sort_values()\n",
    "highest_sales_month = monthly_sales.idxmax()\n",
    "lowest_sales_month = monthly_sales.idxmin()\n",
    "print(monthly_sales)\n",
    "print(\"Highest sales month:\", highest_sales_month)\n",
    "print(\"Lowest sales month:\", lowest_sales_month)\n"
   ]
  }
 ],
 "metadata": {
  "kernelspec": {
   "display_name": "Python 3",
   "language": "python",
   "name": "python3"
  },
  "language_info": {
   "codemirror_mode": {
    "name": "ipython",
    "version": 3
   },
   "file_extension": ".py",
   "mimetype": "text/x-python",
   "name": "python",
   "nbconvert_exporter": "python",
   "pygments_lexer": "ipython3",
   "version": "3.10.12"
  }
 },
 "nbformat": 4,
 "nbformat_minor": 2
}

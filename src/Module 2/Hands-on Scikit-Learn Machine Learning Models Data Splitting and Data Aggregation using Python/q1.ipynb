{
 "cells": [
  {
   "cell_type": "code",
   "execution_count": null,
   "metadata": {},
   "outputs": [],
   "source": [
    "# Question 1: Load & Explore the Credit Card Fraud Detection Dataset\n",
    "\n",
    "# Step 1: Load the dataset from a CSV (Assume you have a file named creditcard.csv ).\n",
    "# Step 2: Split the data.\n",
    "# Step 3: Train a Logistic Regression model.\n",
    "# Step 4: Evaluate using ROC AUC score.\n",
    "\n",
    "\n"
   ]
  }
 ],
 "metadata": {
  "kernelspec": {
   "display_name": "Python 3",
   "language": "python",
   "name": "python3"
  },
  "language_info": {
   "codemirror_mode": {
    "name": "ipython",
    "version": 3
   },
   "file_extension": ".py",
   "mimetype": "text/x-python",
   "name": "python",
   "nbconvert_exporter": "python",
   "pygments_lexer": "ipython3",
   "version": "3.10.12"
  }
 },
 "nbformat": 4,
 "nbformat_minor": 2
}

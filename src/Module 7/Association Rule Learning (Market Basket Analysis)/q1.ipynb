{
 "cells": [
  {
   "cell_type": "code",
   "execution_count": null,
   "metadata": {},
   "outputs": [],
   "source": [
    "# Question 1:  Implementing the Apriori Algorithm in Python\n",
    "# Description:\n",
    "# Use the Apriori algorithm to find frequent itemsets from a simple transactional dataset.\n",
    "import itertools\n",
    "def apriori(transactions,min_support):\n",
    "    items=sorted(list(set(item for sublist in transactions for item in sublist)))\n",
    "    item_counts={item:0 for item in items}\n",
    "    for transaction in transactions:\n",
    "        for item in transaction:\n",
    "            item_counts[item]+=1\n",
    "    frequent_itemsets_1={frozenset([item]):count for item,count in item_counts.items() if count/len(transactions)>=min_support}\n",
    "    frequent_itemsets={1:frequent_itemsets_1}\n",
    "    k=2\n",
    "    while True:\n",
    "        candidate_itemsets_k=set()\n",
    "        prev_frequent_itemsets=frequent_itemsets[k-1]\n",
    "        for itemset1 in prev_frequent_itemsets:\n",
    "            for itemset2 in prev_frequent_itemsets:\n",
    "                union=itemset1.union(itemset2)\n",
    "                if len(union)==k:\n",
    "                    candidate_itemsets_k.add(union)\n",
    "        frequent_itemsets_k={}\n",
    "        for candidate_itemset in candidate_itemsets_k:\n",
    "            count=0\n",
    "            for transaction in transactions:\n",
    "                if candidate_itemset.issubset(frozenset(transaction)):\n",
    "                    count+=1\n",
    "            if count/len(transactions)>=min_support:\n",
    "                frequent_itemsets_k[candidate_itemset]=count\n",
    "        if not frequent_itemsets_k:\n",
    "            break\n",
    "        frequent_itemsets[k]=frequent_itemsets_k\n",
    "        k+=1\n",
    "    return frequent_itemsets\n",
    "transactions=[\n",
    "    ['A','B','C'],\n",
    "    ['A','B'],\n",
    "    ['A','B','D'],\n",
    "    ['B','E','F']\n",
    "]\n",
    "min_support=0.5\n",
    "frequent_itemsets=apriori(transactions,min_support)\n",
    "print(frequent_itemsets)"
   ]
  }
 ],
 "metadata": {
  "kernelspec": {
   "display_name": "Python 3",
   "language": "python",
   "name": "python3"
  },
  "language_info": {
   "codemirror_mode": {
    "name": "ipython",
    "version": 3
   },
   "file_extension": ".py",
   "mimetype": "text/x-python",
   "name": "python",
   "nbconvert_exporter": "python",
   "pygments_lexer": "ipython3",
   "version": "3.12.5"
  }
 },
 "nbformat": 4,
 "nbformat_minor": 2
}

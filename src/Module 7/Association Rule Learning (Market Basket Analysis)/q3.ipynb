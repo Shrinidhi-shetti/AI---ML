{
 "cells": [
  {
   "cell_type": "code",
   "execution_count": 3,
   "metadata": {},
   "outputs": [],
   "source": [
    "# Question 3: Fraud Detection with Association Rules\n",
    "# Description:\n",
    "# Explore how association rule learning can be employed for detecting fraudulent transactions."
   ]
  },
  {
   "cell_type": "code",
   "execution_count": 4,
   "metadata": {},
   "outputs": [
    {
     "name": "stdout",
     "output_type": "stream",
     "text": [
      "Rules related to fraud detection:\n",
      "\n",
      "                                 antecedents                consequents  \\\n",
      "6                               (high_value)                    (fraud)   \n",
      "8                         (foreign_location)                    (fraud)   \n",
      "10            (foreign_location, high_value)                    (fraud)   \n",
      "13                        (foreign_location)        (high_value, fraud)   \n",
      "14                              (high_value)  (foreign_location, fraud)   \n",
      "18  (foreign_location, odd_time, high_value)                    (fraud)   \n",
      "\n",
      "     support  confidence  lift  \n",
      "6   0.500000        0.75   1.5  \n",
      "8   0.500000        0.75   1.5  \n",
      "10  0.500000        1.00   2.0  \n",
      "13  0.500000        0.75   1.5  \n",
      "14  0.500000        0.75   1.5  \n",
      "18  0.333333        1.00   2.0  \n"
     ]
    }
   ],
   "source": [
    "import pandas as pd\n",
    "from mlxtend.frequent_patterns import fpgrowth, association_rules\n",
    "from mlxtend.preprocessing import TransactionEncoder\n",
    "\n",
    "# Sample dataset (transactions where some are marked as fraud)\n",
    "transactions = [\n",
    "    ['high_value', 'foreign_location', 'odd_time', 'fraud'],\n",
    "    ['low_value', 'local', 'normal_time'],\n",
    "    ['high_value', 'foreign_location', 'normal_time', 'fraud'],\n",
    "    ['low_value', 'foreign_location', 'odd_time'],\n",
    "    ['high_value', 'local', 'odd_time'],\n",
    "    ['high_value', 'foreign_location', 'odd_time', 'fraud']\n",
    "]\n",
    "\n",
    "# 1. Transaction Encoding\n",
    "te = TransactionEncoder()\n",
    "te_array = te.fit(transactions).transform(transactions)\n",
    "df = pd.DataFrame(te_array, columns=te.columns_)\n",
    "\n",
    "# 2. FP-Growth to find frequent itemsets\n",
    "frequent_itemsets = fpgrowth(df, min_support=0.3, use_colnames=True)\n",
    "\n",
    "# 3. Generate association rules\n",
    "rules = association_rules(frequent_itemsets, metric=\"confidence\", min_threshold=0.7)\n",
    "\n",
    "# 4. Focus on rules that lead to fraud\n",
    "fraud_rules = rules[rules['consequents'].apply(lambda x: 'fraud' in x)]\n",
    "\n",
    "# 5. Output\n",
    "print(\"Rules related to fraud detection:\\n\")\n",
    "print(fraud_rules[['antecedents', 'consequents', 'support', 'confidence', 'lift']])\n"
   ]
  }
 ],
 "metadata": {
  "kernelspec": {
   "display_name": "Python 3",
   "language": "python",
   "name": "python3"
  },
  "language_info": {
   "codemirror_mode": {
    "name": "ipython",
    "version": 3
   },
   "file_extension": ".py",
   "mimetype": "text/x-python",
   "name": "python",
   "nbconvert_exporter": "python",
   "pygments_lexer": "ipython3",
   "version": "3.10.12"
  }
 },
 "nbformat": 4,
 "nbformat_minor": 2
}

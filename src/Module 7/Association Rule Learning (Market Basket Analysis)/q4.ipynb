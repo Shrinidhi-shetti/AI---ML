{
 "cells": [
  {
   "cell_type": "code",
   "execution_count": 3,
   "metadata": {},
   "outputs": [],
   "source": [
    "# Question 4: Optimizing Association Rule Learning Performance\n",
    "# Description:\n",
    "# Discuss methods to improve the performance of association rule learning in large datasets.\n"
   ]
  },
  {
   "cell_type": "code",
   "execution_count": 4,
   "metadata": {},
   "outputs": [],
   "source": [
    "# Question 4: Optimizing Association Rule Learning Performance\n",
    "# Description:\n",
    "# Discuss and demonstrate methods to improve the performance of association rule learning in large datasets.\n",
    "\n",
    "import pandas as pd\n",
    "from mlxtend.frequent_patterns import fpgrowth, association_rules\n",
    "from mlxtend.preprocessing import TransactionEncoder\n",
    "\n",
    "# ----------------------------------------\n",
    "# Sample Dataset\n",
    "transactions = [\n",
    "    ['milk', 'bread', 'butter'],\n",
    "    ['bread', 'butter'],\n",
    "    ['milk', 'bread'],\n",
    "    ['milk', 'bread', 'butter', 'jam'],\n",
    "    ['bread', 'jam'],\n",
    "    ['milk', 'bread', 'butter'],\n",
    "    ['milk'],\n",
    "    ['butter'],\n",
    "    ['bread', 'butter', 'jam'],\n",
    "    ['milk', 'jam']\n",
    "]\n",
    "\n",
    "# Encode transactions\n",
    "te = TransactionEncoder()\n",
    "te_array = te.fit(transactions).transform(transactions)\n",
    "df = pd.DataFrame(te_array, columns=te.columns_)\n",
    "\n",
    "# ----------------------------------------\n",
    "# 1. Use FP-Growth Algorithm (Faster than Apriori\n"
   ]
  }
 ],
 "metadata": {
  "kernelspec": {
   "display_name": "Python 3",
   "language": "python",
   "name": "python3"
  },
  "language_info": {
   "codemirror_mode": {
    "name": "ipython",
    "version": 3
   },
   "file_extension": ".py",
   "mimetype": "text/x-python",
   "name": "python",
   "nbconvert_exporter": "python",
   "pygments_lexer": "ipython3",
   "version": "3.10.12"
  }
 },
 "nbformat": 4,
 "nbformat_minor": 2
}

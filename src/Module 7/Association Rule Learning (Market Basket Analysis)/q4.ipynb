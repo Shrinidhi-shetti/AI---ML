{
 "cells": [
  {
   "cell_type": "code",
   "execution_count": null,
   "metadata": {},
   "outputs": [],
   "source": [
    "# Question 4: Optimizing Association Rule Learning Performance\n",
    "# Description:\n",
    "# Discuss and demonstrate methods to improve the performance of association rule learning in large datasets.\n",
    "\n",
    "import pandas as pd\n",
    "from mlxtend.preprocessing import TransactionEncoder\n",
    "from mlxtend.frequent_patterns import fpgrowth, association_rules\n",
    "import time\n",
    "\n",
    "# Sample large-ish dataset (simulated)\n",
    "transactions = []\n",
    "import random\n",
    "items = ['A', 'B', 'C', 'D', 'E', 'F', 'G', 'H', 'I', 'J']\n",
    "for _ in range(5000): # 5000 transactions\n",
    "    num_items = random.randint(2, 6)\n",
    "    transactions.append(random.sample(items, num_items))\n",
    "\n",
    "print(f\"Number of transactions: {len(transactions)}\")\n",
    "\n",
    "# Data preparation\n",
    "te = TransactionEncoder()\n",
    "te_ary = te.fit(transactions).transform(transactions)\n",
    "df = pd.DataFrame(te_ary, columns=te.columns_)\n",
    "\n",
    "print(\"\\n--- FP-Growth with different min_support values ---\")\n",
    "\n",
    "# Experiment 1: Higher min_support (more aggressive pruning)\n",
    "min_support_high = 0.1\n",
    "print(f\"\\nRunning FP-Growth with min_support = {min_support_high}\")\n",
    "start_time = time.time()\n",
    "frequent_itemsets_high = fpgrowth(df, min_support=min_support_high, use_colnames=True)\n",
    "end_time = time.time()\n",
    "print(f\"Time taken: {end_time - start_time:.4f} seconds\")\n",
    "print(f\"Number of frequent itemsets found: {len(frequent_itemsets_high)}\")\n",
    "# print(frequent_itemsets_high.head()) # Uncomment to see some itemsets\n",
    "\n",
    "# Generate rules for high support\n",
    "rules_high = association_rules(frequent_itemsets_high, metric=\"confidence\", min_threshold=0.7)\n",
    "print(f\"Number of association rules found (min_support={min_support_high}): {len(rules_high)}\")\n",
    "# print(rules_high.head()) # Uncomment to see some rules\n",
    "\n",
    "\n",
    "# Experiment 2: Lower min_support (less aggressive pruning)\n",
    "min_support_low = 0.05\n",
    "print(f\"\\nRunning FP-Growth with min_support = {min_support_low}\")\n",
    "start_time = time.time()\n",
    "frequent_itemsets_low = fpgrowth(df, min_support=min_support_low, use_colnames=True)\n",
    "end_time = time.time()\n",
    "print(f\"Time taken: {end_time - start_time:.4f} seconds\")\n",
    "print(f\"Number of frequent itemsets found: {len(frequent_itemsets_low)}\")\n",
    "# print(frequent_itemsets_low.head()) # Uncomment to see some itemsets\n",
    "\n",
    "# Generate rules for low support\n",
    "rules_low = association_rules(frequent_itemsets_low, metric=\"confidence\", min_threshold=0.7)\n",
    "print(f\"Number of association rules found (min_support={min_support_low}): {len(rules_low)}\")\n",
    "# print(rules_low.head()) # Uncomment to see some rules"
   ]
  }
 ],
 "metadata": {
  "kernelspec": {
   "display_name": "Python 3",
   "language": "python",
   "name": "python3"
  },
  "language_info": {
   "codemirror_mode": {
    "name": "ipython",
    "version": 3
   },
   "file_extension": ".py",
   "mimetype": "text/x-python",
   "name": "python",
   "nbconvert_exporter": "python",
   "pygments_lexer": "ipython3",
   "version": "3.10.12"
  }
 },
 "nbformat": 4,
 "nbformat_minor": 2
}

{
 "cells": [
  {
   "cell_type": "code",
   "execution_count": 1,
   "metadata": {},
   "outputs": [],
   "source": [
    "# Question 2: FP-Growth Algorithm Implementation\n",
    "# Description:\n",
    "# Use the FP-Growth algorithm to discover frequent patterns from the given data using a popular library."
   ]
  },
  {
   "cell_type": "code",
   "execution_count": null,
   "metadata": {},
   "outputs": [
    {
     "name": "stdout",
     "output_type": "stream",
     "text": [
      "Frequent Itemsets:\n",
      "   support             itemsets\n",
      "0      1.0               (milk)\n",
      "1      1.0              (bread)\n",
      "2      0.6               (nuts)\n",
      "3      1.0        (milk, bread)\n",
      "4      0.6         (milk, nuts)\n",
      "5      0.6        (bread, nuts)\n",
      "6      0.6  (milk, bread, nuts)\n",
      "\n",
      "Association Rules:\n",
      "     antecedents    consequents  antecedent support  consequent support  \\\n",
      "0         (milk)        (bread)                 1.0                 1.0   \n",
      "1        (bread)         (milk)                 1.0                 1.0   \n",
      "2         (nuts)         (milk)                 0.6                 1.0   \n",
      "3         (nuts)        (bread)                 0.6                 1.0   \n",
      "4   (milk, nuts)        (bread)                 0.6                 1.0   \n",
      "5  (bread, nuts)         (milk)                 0.6                 1.0   \n",
      "6         (nuts)  (milk, bread)                 0.6                 1.0   \n",
      "\n",
      "   support  confidence  lift  representativity  leverage  conviction  \\\n",
      "0      1.0         1.0   1.0               1.0       0.0         inf   \n",
      "1      1.0         1.0   1.0               1.0       0.0         inf   \n",
      "2      0.6         1.0   1.0               1.0       0.0         inf   \n",
      "3      0.6         1.0   1.0               1.0       0.0         inf   \n",
      "4      0.6         1.0   1.0               1.0       0.0         inf   \n",
      "5      0.6         1.0   1.0               1.0       0.0         inf   \n",
      "6      0.6         1.0   1.0               1.0       0.0         inf   \n",
      "\n",
      "   zhangs_metric  jaccard  certainty  kulczynski  \n",
      "0            0.0      1.0        0.0         1.0  \n",
      "1            0.0      1.0        0.0         1.0  \n",
      "2            0.0      0.6        0.0         0.8  \n",
      "3            0.0      0.6        0.0         0.8  \n",
      "4            0.0      0.6        0.0         0.8  \n",
      "5            0.0      0.6        0.0         0.8  \n",
      "6            0.0      0.6        0.0         0.8  \n"
     ]
    },
    {
     "name": "stderr",
     "output_type": "stream",
     "text": [
      "/home/vscode/.local/lib/python3.10/site-packages/mlxtend/frequent_patterns/association_rules.py:186: RuntimeWarning: invalid value encountered in divide\n",
      "  cert_metric = np.where(certainty_denom == 0, 0, certainty_num / certainty_denom)\n"
     ]
    }
   ],
   "source": [
    "# Question 2: FP-Growth Algorithm Implementation\n",
    "\n",
    "from mlxtend.frequent_patterns import fpgrowth\n",
    "from mlxtend.frequent_patterns import association_rules\n",
    "import pandas as pd\n",
    "\n",
    "# Sample transaction data\n",
    "dataset = [\n",
    "    ['milk', 'bread', 'nuts', 'apple'],\n",
    "    ['milk', 'bread', 'nuts'],\n",
    "    ['milk', 'bread'],\n",
    "    ['milk', 'bread', 'apple'],\n",
    "    ['bread', 'milk', 'nuts']\n",
    "]\n",
    "\n",
    "# Convert to one-hot encoded DataFrame\n",
    "from mlxtend.preprocessing import TransactionEncoder\n",
    "\n",
    "te = TransactionEncoder()\n",
    "te_ary = te.fit(dataset).transform(dataset)\n",
    "df = pd.DataFrame(te_ary, columns=te.columns_)\n",
    "\n",
    "# Apply FP-Growth\n",
    "frequent_itemsets = fpgrowth(df, min_support=0.6, use_colnames=True)\n",
    "\n",
    "# Display frequent itemsets\n",
    "print(\"Frequent Itemsets:\")\n",
    "print(frequent_itemsets)\n",
    "\n",
    "# Optionally, generate association rules\n",
    "rules = association_rules(frequent_itemsets, metric=\"confidence\", min_threshold=0.7)\n",
    "print(\"\\nAssociation Rules:\")\n",
    "print(rules)\n"
   ]
  }
 ],
 "metadata": {
  "kernelspec": {
   "display_name": "Python 3",
   "language": "python",
   "name": "python3"
  },
  "language_info": {
   "codemirror_mode": {
    "name": "ipython",
    "version": 3
   },
   "file_extension": ".py",
   "mimetype": "text/x-python",
   "name": "python",
   "nbconvert_exporter": "python",
   "pygments_lexer": "ipython3",
   "version": "3.10.12"
  }
 },
 "nbformat": 4,
 "nbformat_minor": 2
}

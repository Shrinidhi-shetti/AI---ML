{
 "cells": [
  {
   "cell_type": "code",
   "execution_count": 1,
   "metadata": {},
   "outputs": [],
   "source": [
    "# Title: clat Algorithm & FP-Growth\n",
    "\n",
    "# Task 1: Shopping Basket Analysis with Eclat\n",
    "# Dataset: {Apples, Oranges, Bananas}, {Apples, Bananas}, {Bananas, Pears, Grapes},{Oranges, Apples}\n",
    "# Task: Implement the Eclat algorithm to discover frequent item sets.\n",
    "\n",
    "# Task 2: Online Shopping Data with FP-Growth\n",
    "# Dataset: {Laptop, Mouse}, {Mouse, Keypad}, {Laptop, Keypad}, {Laptop, Mouse,Keypad}\n",
    "# Task: Use FP-Growth to extract frequent patterns and comment on the relationships\n",
    "# discovered.\n",
    "\n",
    "# Task 3: Mobile App Usage Data with FP-Growth\n",
    "# Dataset: {App A, App B, App C}, {App B, App C}, {App A, App B}, {App C, App A}\n",
    "# Task: Implement FP-Growth to identify frequent app usage combinations."
   ]
  },
  {
   "cell_type": "code",
   "execution_count": null,
   "metadata": {},
   "outputs": [
    {
     "name": "stdout",
     "output_type": "stream",
     "text": [
      "Task 1 - Frequent Itemsets (Eclat):\n",
      "Itemset: ['Bananas'], Support: 0.75\n",
      "Itemset: ['Bananas', 'Apples'], Support: 0.50\n",
      "Itemset: ['Oranges'], Support: 0.50\n",
      "Itemset: ['Oranges', 'Apples'], Support: 0.50\n",
      "Itemset: ['Apples'], Support: 0.75\n"
     ]
    }
   ],
   "source": [
    "from collections import defaultdict\n",
    "\n",
    "def eclat(transactions, min_support):\n",
    "    # Create initial tidsets for each item\n",
    "    item_tidsets = defaultdict(set)\n",
    "    for tid, transaction in enumerate(transactions):\n",
    "        for item in transaction:\n",
    "            item_tidsets[item].add(tid)\n",
    "    \n",
    "    # Filter items by min_support\n",
    "    n_transactions = len(transactions)\n",
    "    frequent_items = {item: tidset for item, tidset in item_tidsets.items() \n",
    "                      if len(tidset) / n_transactions >= min_support}\n",
    "    \n",
    "    results = []\n",
    "    \n",
    "    def recursive_eclat(prefix, items):\n",
    "        while items:\n",
    "            item, tidset = items.pop()\n",
    "            support = len(tidset) / n_transactions\n",
    "            if support >= min_support:\n",
    "                new_prefix = prefix + [item]\n",
    "                results.append((new_prefix, support))\n",
    "                \n",
    "                # Compute intersections with remaining items\n",
    "                suffix = []\n",
    "                for other_item, other_tidset in items:\n",
    "                    intersection = tidset.intersection(other_tidset)\n",
    "                    suffix.append((other_item, intersection))\n",
    "                \n",
    "                recursive_eclat(new_prefix, suffix)\n",
    "    \n",
    "    recursive_eclat([], list(frequent_items.items()))\n",
    "    \n",
    "    return results\n",
    "\n",
    "# Task 1 dataset\n",
    "transactions_1 = [\n",
    "    ['Apples', 'Oranges', 'Bananas'],\n",
    "    ['Apples', 'Bananas'],\n",
    "    ['Bananas', 'Pears', 'Grapes'],\n",
    "    ['Oranges', 'Apples']\n",
    "]\n",
    "\n",
    "min_support_1 = 0.5\n",
    "frequent_itemsets_1 = eclat(transactions_1, min_support_1)\n",
    "print(\"Task 1 - Frequent Itemsets (Eclat):\")\n",
    "for itemset, support in frequent_itemsets_1:\n",
    "    print(f\"Itemset: {itemset}, Support: {support:.2f}\")\n"
   ]
  }
 ],
 "metadata": {
  "kernelspec": {
   "display_name": "Python 3",
   "language": "python",
   "name": "python3"
  },
  "language_info": {
   "codemirror_mode": {
    "name": "ipython",
    "version": 3
   },
   "file_extension": ".py",
   "mimetype": "text/x-python",
   "name": "python",
   "nbconvert_exporter": "python",
   "pygments_lexer": "ipython3",
   "version": "3.10.12"
  }
 },
 "nbformat": 4,
 "nbformat_minor": 2
}

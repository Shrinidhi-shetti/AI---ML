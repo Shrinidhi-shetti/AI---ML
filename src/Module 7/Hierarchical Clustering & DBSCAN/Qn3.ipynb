{
 "cells": [
  {
   "cell_type": "code",
   "execution_count": 1,
   "metadata": {},
   "outputs": [],
   "source": [
    "\n",
    "#Title:  DBSCAN Clustering for Anomaly Detection\n",
    "\n",
    "# Task 1: DBSCAN on Uniform Data\n",
    "\n",
    "# 1. Generate a dataset with points [(-1, -1), (0, 0), (1, 1), (9, 9), (10, 10)] .\n",
    "# 2. Apply DBSCAN with a small eps (e.g., 0.5) and a minimum number of points (e.g., 2).\n",
    "# 3. Identify which points are treated as noise/outliers.\n",
    "\n",
    "\n",
    "# Task 2: Detecting Anomalies in a Simple Dataset\n",
    "\n",
    "# 1. Use the dataset: [(0, 0), (0, 1), (1, 0), (10, 10), (11, 11)] .\n",
    "# 2. Configure DBSCAN parameters ( eps=1 , min_samples=2 ) and apply it.\n",
    "# 3. Analyze the resulting clusters and classify any points identified as outliers.\n",
    "\n",
    "# Task 3: Exploring Real World Data\n",
    "\n",
    "# 1. Load a dataset with anomalies like credit card transactions.\n",
    "# 2. Apply DBSCAN to detect unusual transactions by adjusting eps and min_samples .\n",
    "# 3. Identify and discuss the points that are marked as noise, understanding why they might be considered anomalies."
   ]
  },
  {
   "cell_type": "code",
   "execution_count": null,
   "metadata": {},
   "outputs": [
    {
     "name": "stdout",
     "output_type": "stream",
     "text": [
      "\n",
      "--- Task 1: Uniform Data ---\n",
      "Labels: [-1 -1 -1 -1 -1]\n",
      "Noise points: [[-1 -1]\n",
      " [ 0  0]\n",
      " [ 1  1]\n",
      " [ 9  9]\n",
      " [10 10]]\n"
     ]
    },
    {
     "data": {
      "image/png": "[encoded data removed]",
      "text/plain": [
       "<Figure size 500x400 with 1 Axes>"
      ]
     },
     "metadata": {},
     "output_type": "display_data"
    },
    {
     "name": "stdout",
     "output_type": "stream",
     "text": [
      "\n",
      "--- Task 2: Simple Dataset ---\n",
      "Labels: [ 0  0  0 -1 -1]\n",
      "Outliers: [[10 10]\n",
      " [11 11]]\n"
     ]
    },
    {
     "data": {
      "image/png": "[encoded data removed]",
      "text/plain": [
       "<Figure size 500x400 with 1 Axes>"
      ]
     },
     "metadata": {},
     "output_type": "display_data"
    },
    {
     "name": "stdout",
     "output_type": "stream",
     "text": [
      "\n",
      "--- Task 3: Real-World Data ---\n",
      "Dataset 'creditcard.csv' not found. Please place it in the working directory.\n"
     ]
    }
   ],
   "source": [
    "# Title: DBSCAN Clustering for Anomaly Detection\n",
    "\n",
    "from sklearn.cluster import DBSCAN\n",
    "import numpy as np\n",
    "import pandas as pd\n",
    "import matplotlib.pyplot as plt\n",
    "\n",
    "# ----------------------------\n",
    "# Task 1: DBSCAN on Uniform Data\n",
    "# ----------------------------\n",
    "\n",
    "print(\"\\n--- Task 1: Uniform Data ---\")\n",
    "\n",
    "# 1. Dataset\n",
    "data1 = np.array([[-1, -1], [0, 0], [1, 1], [9, 9], [10, 10]])\n",
    "\n",
    "# 2. DBSCAN\n",
    "db1 = DBSCAN(eps=0.5, min_samples=2)\n",
    "labels1 = db1.fit_predict(data1)\n",
    "\n",
    "# 3. Output results\n",
    "print(\"Labels:\", labels1)\n",
    "print(\"Noise points:\", data1[labels1 == -1])\n",
    "\n",
    "# Optional: Visualization\n",
    "plt.figure(figsize=(5, 4))\n",
    "plt.title(\"Task 1: Uniform Data\")\n",
    "plt.scatter(data1[:, 0], data1[:, 1], c=labels1, cmap='plasma', s=100, edgecolors='k')\n",
    "plt.grid(True)\n",
    "plt.show()\n",
    "\n",
    "\n",
    "# ----------------------------\n",
    "# Task 2: Detecting Anomalies in a Simple Dataset\n",
    "# ----------------------------\n",
    "\n",
    "print(\"\\n--- Task 2: Simple Dataset ---\")\n",
    "\n",
    "# 1. Dataset\n",
    "data2 = np.array([[0, 0], [0, 1], [1, 0], [10, 10], [11, 11]])\n",
    "\n",
    "# 2. DBSCAN with eps=1 and min_samples=2\n",
    "db2 = DBSCAN(eps=1, min_samples=2)\n",
    "labels2 = db2.fit_predict(data2)\n",
    "\n",
    "# 3. Output results\n",
    "print(\"Labels:\", labels2)\n",
    "print(\"Outliers:\", data2[labels2 == -1])\n",
    "\n",
    "# Optional: Visualization\n",
    "plt.figure(figsize=(5, 4))\n",
    "plt.title(\"Task 2: Simple Dataset\")\n",
    "plt.scatter(data2[:, 0], data2[:, 1], c=labels2, cmap='plasma', s=100, edgecolors='k')\n",
    "plt.grid(True)\n",
    "plt.show()\n",
    "\n",
    "\n",
    "# ----------------------------\n",
    "# Task 3: Real-World Data (e.g., Credit Card Fraud)\n",
    "# ----------------------------\n",
    "\n",
    "print(\"\\n--- Task 3: Real-World Data ---\")\n",
    "\n",
    "# 1. Load dataset\n",
    "try:\n",
    "    df = pd.read_csv(\"creditcard.csv\")  # Replace with correct path\n",
    "    X = df[[\"V1\", \"V2\"]]  # Using two features for visualization (modify as needed)\n",
    "\n",
    "    # 2. Apply DBSCAN\n",
    "    db3 = DBSCAN(eps=1.5, min_samples=5)\n",
    "    labels3 = db3.fit_predict(X)\n",
    "\n",
    "    df[\"label\"] = labels3\n",
    "\n",
    "    # 3. Identify noise\n",
    "    anomalies = df[df[\"label\"] == -1]\n",
    "    print(f\"Anomalies detected: {len(anomalies)}\")\n",
    "    print(anomalies.head())\n",
    "\n",
    "    # Optional: Visualization\n",
    "    plt.figure(figsize=(6, 5))\n",
    "    plt.title(\"Task 3: DBSCAN on Credit Card Data (V1 vs V2)\")\n",
    "    plt.scatter(X[\"V1\"], X[\"V2\"], c=labels3, cmap='plasma', s=5)\n",
    "    plt.xlabel(\"V1\")\n",
    "    plt.ylabel(\"V2\")\n",
    "    plt.grid(True)\n",
    "    plt.show()\n",
    "\n",
    "except FileNotFoundError:\n",
    "    print(\"Dataset 'creditcard.csv' not found. Please place it in the working directory.\")\n"
   ]
  }
 ],
 "metadata": {
  "kernelspec": {
   "display_name": "Python 3",
   "language": "python",
   "name": "python3"
  },
  "language_info": {
   "codemirror_mode": {
    "name": "ipython",
    "version": 3
   },
   "file_extension": ".py",
   "mimetype": "text/x-python",
   "name": "python",
   "nbconvert_exporter": "python",
   "pygments_lexer": "ipython3",
   "version": "3.10.12"
  }
 },
 "nbformat": 4,
 "nbformat_minor": 2
}

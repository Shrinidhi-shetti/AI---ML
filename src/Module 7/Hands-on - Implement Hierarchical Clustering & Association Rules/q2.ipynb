{
 "cells": [
  {
   "cell_type": "code",
   "execution_count": 1,
   "metadata": {},
   "outputs": [],
   "source": [
    "# Question 2: Using the ward linkage method, cluster the following dataset and plot the dendrogram."
   ]
  },
  {
   "cell_type": "code",
   "execution_count": null,
   "metadata": {},
   "outputs": [],
   "source": [
    "import numpy as np\n",
    "import matplotlib.pyplot as plt\n",
    "from scipy.cluster.hierarchy import linkage, dendrogram\n",
    "\n",
    "# Define the dataset\n",
    "data = np.array([\n",
    "    [1, 1],  # A\n",
    "    [2, 1],  # B\n",
    "    [4, 3],  # C\n",
    "    [5, 4],  # D\n",
    "    [3, 3]   # E\n",
    "])\n",
    "\n",
    "labels = ['A', 'B', 'C', 'D', 'E']\n",
    "\n",
    "# Perform hierarchical clustering using Ward linkage\n",
    "Z = linkage(data, method='ward')\n",
    "\n",
    "# Plot the dendrogram\n",
    "plt.figure(figsize=(8, 4))\n",
    "dendrogram(Z, labels=labels)\n",
    "plt.title(\"Hierarchical Clustering Dendrogram (Ward Linkage)\")\n",
    "plt.xlabel(\"Points\")\n",
    "plt.ylabel(\"Distance\")\n",
    "plt.grid(True)\n",
    "plt.show()\n"
   ]
  }
 ],
 "metadata": {
  "kernelspec": {
   "display_name": "Python 3",
   "language": "python",
   "name": "python3"
  },
  "language_info": {
   "codemirror_mode": {
    "name": "ipython",
    "version": 3
   },
   "file_extension": ".py",
   "mimetype": "text/x-python",
   "name": "python",
   "nbconvert_exporter": "python",
   "pygments_lexer": "ipython3",
   "version": "3.10.12"
  }
 },
 "nbformat": 4,
 "nbformat_minor": 2
}

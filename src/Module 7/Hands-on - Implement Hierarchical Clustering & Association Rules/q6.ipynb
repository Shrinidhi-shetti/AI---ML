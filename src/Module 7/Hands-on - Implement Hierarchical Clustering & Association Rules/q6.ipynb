{
 "cells": [
  {
   "cell_type": "code",
   "execution_count": 1,
   "metadata": {},
   "outputs": [],
   "source": [
    "# Question 6: Implement an agglomerative hierarchical clustering on a non-Euclidian space (e.g.,textual data) using Gower's distance."
   ]
  },
  {
   "cell_type": "code",
   "execution_count": null,
   "metadata": {},
   "outputs": [
    {
     "name": "stdout",
     "output_type": "stream",
     "text": [
      "Gower's Distance Matrix (lower triangle):\n",
      " [0.8        0.5        1.         0.5        1.         0.33333333\n",
      " 1.         0.5        0.5        1.         0.75       1.\n",
      " 0.8        0.75       0.75       0.8        1.         1.\n",
      " 1.         0.75       1.        ]\n",
      "\n",
      "Clustering Results (into 3 clusters):\n",
      "Document 1: ['apple', 'banana', 'orange'] -> Cluster 1\n",
      "Document 2: ['apple', 'grape', 'kiwi'] -> Cluster 2\n",
      "Document 3: ['banana', 'orange', 'strawberry'] -> Cluster 1\n",
      "Document 4: ['grape', 'kiwi', 'pineapple'] -> Cluster 2\n",
      "Document 5: ['apple', 'banana', 'kiwi'] -> Cluster 2\n",
      "Document 6: ['strawberry', 'blueberry'] -> Cluster 3\n",
      "Document 7: ['apple', 'orange'] -> Cluster 1\n",
      "\n",
      "Documents in each cluster:\n",
      "Cluster 1:\n",
      "  ['apple', 'banana', 'orange']\n",
      "  ['banana', 'orange', 'strawberry']\n",
      "  ['apple', 'orange']\n",
      "Cluster 2:\n",
      "  ['apple', 'grape', 'kiwi']\n",
      "  ['grape', 'kiwi', 'pineapple']\n",
      "  ['apple', 'banana', 'kiwi']\n",
      "Cluster 3:\n",
      "  ['strawberry', 'blueberry']\n"
     ]
    }
   ],
   "source": [
    "import numpy as np\n",
    "from scipy.cluster.hierarchy import linkage, fcluster\n",
    "from scipy.spatial.distance import pdist\n",
    "from collections import defaultdict\n",
    "\n",
    "def gowers_distance_for_text(doc1_word_set, doc2_word_set, all_unique_words):\n",
    "    intersection = doc1_word_set.intersection(doc2_word_set)\n",
    "    union = doc1_word_set.union(doc2_word_set)\n",
    "    \n",
    "    if len(union) == 0:\n",
    "        return 0.0\n",
    "    return 1 - (len(intersection) / len(union))\n",
    "\n",
    "def calculate_gowers_distance_matrix(documents):\n",
    "    num_docs = len(documents)\n",
    "    distance_matrix = np.zeros((num_docs, num_docs))\n",
    "    \n",
    "    document_word_sets = [set(doc) for doc in documents]\n",
    "    \n",
    "    all_unique_words = set(word for doc_set in document_word_sets for word in doc_set)\n",
    "\n",
    "    for i in range(num_docs):\n",
    "        for j in range(i + 1, num_docs):\n",
    "            dist = gowers_distance_for_text(\n",
    "                document_word_sets[i], \n",
    "                document_word_sets[j], \n",
    "                all_unique_words\n",
    "            )\n",
    "            distance_matrix[i, j] = dist\n",
    "            distance_matrix[j, i] = dist\n",
    "    return distance_matrix\n",
    "\n",
    "documents = [\n",
    "    [\"apple\", \"banana\", \"orange\"],\n",
    "    [\"apple\", \"grape\", \"kiwi\"],\n",
    "    [\"banana\", \"orange\", \"strawberry\"],\n",
    "    [\"grape\", \"kiwi\", \"pineapple\"],\n",
    "    [\"apple\", \"banana\", \"kiwi\"],\n",
    "    [\"strawberry\", \"blueberry\"],\n",
    "    [\"apple\", \"orange\"],\n",
    "]\n",
    "\n",
    "gowers_dist_matrix = calculate_gowers_distance_matrix(documents)\n",
    "print(\"Gower's Distance Matrix (lower triangle):\\n\", gowers_dist_matrix[np.triu_indices(len(documents), k=1)])\n",
    "\n",
    "condensed_dist_matrix = gowers_dist_matrix[np.triu_indices(len(documents), k=1)]\n",
    "linked_matrix = linkage(condensed_dist_matrix, method='average')\n",
    "\n",
    "num_clusters = 3\n",
    "clusters = fcluster(linked_matrix, num_clusters, criterion='maxclust')\n",
    "print(f\"\\nClustering Results (into {num_clusters} clusters):\")\n",
    "clustered_docs = defaultdict(list)\n",
    "for i, cluster_id in enumerate(clusters):\n",
    "    clustered_docs[cluster_id].append(documents[i])\n",
    "    print(f\"Document {i+1}: {documents[i]} -> Cluster {cluster_id}\")\n",
    "print(\"\\nDocuments in each cluster:\")\n",
    "for cluster_id, docs_in_cluster in clustered_docs.items():\n",
    "    print(f\"Cluster {cluster_id}:\")\n",
    "    for doc in docs_in_cluster:\n",
    "        print(f\"  {doc}\")"
   ]
  }
 ],
 "metadata": {
  "kernelspec": {
   "display_name": "Python 3",
   "language": "python",
   "name": "python3"
  },
  "language_info": {
   "codemirror_mode": {
    "name": "ipython",
    "version": 3
   },
   "file_extension": ".py",
   "mimetype": "text/x-python",
   "name": "python",
   "nbconvert_exporter": "python",
   "pygments_lexer": "ipython3",
   "version": "3.10.12"
  }
 },
 "nbformat": 4,
 "nbformat_minor": 2
}

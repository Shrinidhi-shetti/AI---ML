{
 "cells": [
  {
   "cell_type": "code",
   "execution_count": null,
   "metadata": {},
   "outputs": [],
   "source": [
    "# Question 2: Feature Scaling\n",
    "# Description: Demonstrate the importance of feature scaling using a K-Means clustering example."
   ]
  },
  {
   "cell_type": "code",
   "execution_count": null,
   "metadata": {},
   "outputs": [],
   "source": [
    "# Feature Scaling - KMeans Clustering Example\n",
    "\n",
    "import numpy as np\n",
    "import pandas as pd\n",
    "import matplotlib.pyplot as plt\n",
    "from sklearn.cluster import KMeans\n",
    "from sklearn.preprocessing import StandardScaler\n",
    "\n",
    "# Create a sample dataset\n",
    "np.random.seed(42)\n",
    "# Feature 1: Annual income (0 - 100000)\n",
    "income = np.random.normal(50000, 15000, 100)\n",
    "# Feature 2: Age (18 - 70)\n",
    "age = np.random.normal(40, 10, 100)\n",
    "\n",
    "# Combine into a DataFrame\n",
    "df = pd.DataFrame({\n",
    "    'Income': income,\n",
    "    'Age': age\n",
    "})\n",
    "\n",
    "# ----------- Clustering WITHOUT Feature Scaling -----------\n",
    "kmeans_no_scaling = KMeans(n_clusters=3, random_state=42)\n",
    "df['Cluster_No_Scaling'] = kmeans_no_scaling.fit_predict(df[['Income', 'Age']])\n",
    "\n",
    "# ----------- Clustering WITH Feature Scaling -----------\n",
    "scaler = StandardScaler()\n",
    "scaled_features = scaler.fit_transform(df[['Income', 'Age']])\n",
    "kmeans_scaled = KMeans(n_clusters=3, random_state=42)\n",
    "df['Cluster_Scaled'] = kmeans_scaled.fit_predict(scaled_features)\n",
    "\n",
    "# ----------- Plotting Results -----------\n",
    "fig, axes = plt.subplots(1, 2, figsize=(12, 5))\n",
    "\n",
    "# Without Scaling\n",
    "axes[0].scatter(df['Income'], df['Age'], c=df['Cluster_No_Scaling'], cmap='viridis')\n",
    "axes[0].set_title('K-Means without Feature Scaling')\n",
    "axes[0].set_xlabel('Income')\n",
    "axes[0].set_ylabel('Age')\n",
    "\n",
    "# With Scaling\n",
    "axes[1].scatter(df['Income'], df['Age'], c=df['Cluster_Scaled'], cmap='viridis')\n",
    "axes[1].set_title('K-Means with Feature Scaling')\n",
    "axes[1].set_xlabel('Income')\n",
    "axes[1].set_ylabel('Age')\n",
    "\n",
    "plt.tight_layout()\n",
    "plt.show()\n"
   ]
  }
 ],
 "metadata": {
  "kernelspec": {
   "display_name": "Python 3",
   "language": "python",
   "name": "python3"
  },
  "language_info": {
   "codemirror_mode": {
    "name": "ipython",
    "version": 3
   },
   "file_extension": ".py",
   "mimetype": "text/x-python",
   "name": "python",
   "nbconvert_exporter": "python",
   "pygments_lexer": "ipython3",
   "version": "3.10.12"
  }
 },
 "nbformat": 4,
 "nbformat_minor": 2
}

{
 "cells": [
  {
   "cell_type": "code",
   "execution_count": 1,
   "metadata": {},
   "outputs": [],
   "source": [
    "# Title: Document Clustering\n",
    "\n",
    "# Task 1: A news platform uses Latent Dirichlet Allocation (LDA) to group articles by topic. Implement LDA on a corpus of news articles to identify underlying topics.\n",
    "# Task 2: A library uses k-means clustering to organize digital books based on content similarity. Use a text vectorization method (e.g., TF-IDF) and apply k-means.\n",
    "# Task 3: A law firm leverages agglomerative clustering to organize legal documents related to similar cases. Perform hierarchical clustering and visualize using a dendrogram."
   ]
  },
  {
   "cell_type": "code",
   "execution_count": 2,
   "metadata": {},
   "outputs": [
    {
     "ename": "ModuleNotFoundError",
     "evalue": "No module named 'nltk'",
     "output_type": "error",
     "traceback": [
      "\u001b[0;31m---------------------------------------------------------------------------\u001b[0m",
      "\u001b[0;31mModuleNotFoundError\u001b[0m                       Traceback (most recent call last)",
      "Cell \u001b[0;32mIn[2], line 6\u001b[0m\n\u001b[1;32m      4\u001b[0m \u001b[38;5;28;01mfrom\u001b[39;00m\u001b[38;5;250m \u001b[39m\u001b[38;5;21;01msklearn\u001b[39;00m\u001b[38;5;21;01m.\u001b[39;00m\u001b[38;5;21;01mdecomposition\u001b[39;00m\u001b[38;5;250m \u001b[39m\u001b[38;5;28;01mimport\u001b[39;00m LatentDirichletAllocation\n\u001b[1;32m      5\u001b[0m \u001b[38;5;28;01mimport\u001b[39;00m\u001b[38;5;250m \u001b[39m\u001b[38;5;21;01mre\u001b[39;00m\n\u001b[0;32m----> 6\u001b[0m \u001b[38;5;28;01mfrom\u001b[39;00m\u001b[38;5;250m \u001b[39m\u001b[38;5;21;01mnltk\u001b[39;00m\u001b[38;5;21;01m.\u001b[39;00m\u001b[38;5;21;01mcorpus\u001b[39;00m\u001b[38;5;250m \u001b[39m\u001b[38;5;28;01mimport\u001b[39;00m stopwords\n\u001b[1;32m      7\u001b[0m \u001b[38;5;28;01mfrom\u001b[39;00m\u001b[38;5;250m \u001b[39m\u001b[38;5;21;01mnltk\u001b[39;00m\u001b[38;5;21;01m.\u001b[39;00m\u001b[38;5;21;01mtokenize\u001b[39;00m\u001b[38;5;250m \u001b[39m\u001b[38;5;28;01mimport\u001b[39;00m word_tokenize\n\u001b[1;32m      8\u001b[0m \u001b[38;5;28;01mimport\u001b[39;00m\u001b[38;5;250m \u001b[39m\u001b[38;5;21;01mnltk\u001b[39;00m\n",
      "\u001b[0;31mModuleNotFoundError\u001b[0m: No module named 'nltk'"
     ]
    }
   ],
   "source": [
    "import numpy as np\n",
    "import pandas as pd\n",
    "from sklearn.feature_extraction.text import CountVectorizer\n",
    "from sklearn.decomposition import LatentDirichletAllocation\n",
    "import re\n",
    "from nltk.corpus import stopwords\n",
    "from nltk.tokenize import word_tokenize\n",
    "import nltk\n",
    "\n",
    "# Ensure you have the necessary NLTK data downloaded\n",
    "try:\n",
    "    nltk.data.find('corpora/stopwords')\n",
    "except nltk.downloader.DownloadError:\n",
    "    nltk.download('stopwords')\n",
    "try:\n",
    "    nltk.data.find('tokenizers/punkt')\n",
    "except nltk.downloader.DownloadError:\n",
    "    nltk.download('punkt')\n",
    "\n",
    "def preprocess_text(text):\n",
    "    \"\"\"Cleans and tokenizes text, removing stopwords and non-alphabetic characters.\"\"\"\n",
    "    text = text.lower()\n",
    "    text = re.sub(r'[^a-z\\s]', '', text) # Remove non-alphabetic characters\n",
    "    tokens = word_tokenize(text)\n",
    "    stop_words = set(stopwords.words('english'))\n",
    "    tokens = [word for word in tokens if word not in stop_words and len(word) > 2]\n",
    "    return \" \".join(tokens)\n",
    "\n",
    "# Sample corpus of news articles\n",
    "news_articles = [\n",
    "    \"The economy is showing signs of recovery with increased consumer spending and job growth.\",\n",
    "    \"Central banks are debating interest rate hikes to curb inflation in several countries.\",\n",
    "    \"New advancements in artificial intelligence are transforming various industries, from healthcare to finance.\",\n",
    "    \"Machine learning algorithms are being used to predict stock market trends and optimize trading strategies.\",\n",
    "    \"A major earthquake struck the region, causing widespread damage and requiring immediate humanitarian aid.\",\n",
    "    \"Volcanic eruption in the Pacific caused disruptions to air travel and local evacuations.\",\n",
    "    \"Scientists discovered a new exoplanet with potential for liquid water, fueling search for extraterrestrial life.\",\n",
    "    \"Space agencies are planning new missions to Mars and beyond, pushing the boundaries of human exploration.\"\n",
    "]\n",
    "\n",
    "# Preprocess the articles\n",
    "preprocessed_articles = [preprocess_text(article) for article in news_articles]\n",
    "\n",
    "# Use CountVectorizer for LDA as it typically works with word counts\n",
    "count_vectorizer = CountVectorizer(max_df=0.95, min_df=2) # Ignore terms that appear in too many/few documents\n",
    "dtm = count_vectorizer.fit_transform(preprocessed_articles)\n",
    "\n",
    "# Apply LDA to identify underlying topics\n",
    "num_topics = 3 # You can adjust this based on your dataset and desired granularity\n",
    "lda = LatentDirichletAllocation(n_components=num_topics, random_state=42, n_init=10)\n",
    "lda.fit(dtm)\n",
    "\n",
    "print(\"--- Task 1: News Article Topic Modeling with LDA ---\")\n",
    "print(\"\\nIdentified Topics (Top 10 keywords per topic):\")\n",
    "feature_names = count_vectorizer.get_feature_names_out()\n",
    "for topic_idx, topic in enumerate(lda.components_):\n",
    "    print(f\"Topic #{topic_idx + 1}:\")\n",
    "    print([feature_names[i] for i in topic.argsort()[:-11:-1]]) # Top 10 words\n",
    "\n",
    "print(\"\\nDominant Topic for each Article:\")\n",
    "topic_distributions = lda.transform(dtm)\n",
    "for i, article in enumerate(news_articles):\n",
    "    dominant_topic = np.argmax(topic_distributions[i])\n",
    "    print(f\"Article {i+1}: '{article[:70]}...' -> Dominant Topic: {dominant_topic + 1}\") # Added + 1 to complete the line"
   ]
  }
 ],
 "metadata": {
  "kernelspec": {
   "display_name": "Python 3",
   "language": "python",
   "name": "python3"
  },
  "language_info": {
   "codemirror_mode": {
    "name": "ipython",
    "version": 3
   },
   "file_extension": ".py",
   "mimetype": "text/x-python",
   "name": "python",
   "nbconvert_exporter": "python",
   "pygments_lexer": "ipython3",
   "version": "3.10.12"
  }
 },
 "nbformat": 4,
 "nbformat_minor": 2
}

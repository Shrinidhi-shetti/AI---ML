{
 "cells": [
  {
   "cell_type": "code",
   "execution_count": null,
   "metadata": {},
   "outputs": [],
   "source": [
    "# Question 3: Image Compression with K-Means\n",
    "# Description: Use K-Means clustering for basic image compression."
   ]
  },
  {
   "cell_type": "code",
   "execution_count": null,
   "metadata": {},
   "outputs": [],
   "source": [
    "from PIL import Image\n",
    "import numpy as np\n",
    "import matplotlib.pyplot as plt\n",
    "from sklearn.cluster import KMeans\n",
    "from sklearn.utils import shuffle\n",
    "import requests\n",
    "from io import BytesIO\n",
    "\n",
    "# Use a different image URL and headers\n",
    "url = \"https://upload.wikimedia.org/wikipedia/commons/7/77/Delete_key1.jpg\"\n",
    "headers = {\"User-Agent\": \"Mozilla/5.0\"}\n",
    "response = requests.get(url, headers=headers)\n",
    "\n",
    "# Load the image\n",
    "img = Image.open(BytesIO(response.content))\n",
    "img = img.convert(\"RGB\")  # Ensure it's in RGB mode\n",
    "image = np.array(img, dtype=np.float64) / 255  # Normalize\n",
    "w, h, d = image.shape\n",
    "image_array = np.reshape(image, (w * h, d))\n",
    "\n",
    "# K-Means Clustering\n",
    "image_sample = shuffle(image_array, random_state=42)[:1000]\n",
    "n_colors = 16\n",
    "kmeans = KMeans(n_clusters=n_colors, random_state=42)\n",
    "kmeans.fit(image_sample)\n",
    "labels = kmeans.predict(image_array)\n",
    "compressed_image = kmeans.cluster_centers_[labels].reshape(w, h, d)\n",
    "\n",
    "# Plot original and compressed\n",
    "fig, ax = plt.subplots(1, 2, figsize=(12, 6))\n",
    "ax[0].imshow(image)\n",
    "ax[0].set_title(\"Original Image\")\n",
    "ax[0].axis(\"off\")\n",
    "\n",
    "ax[1].imshow(compressed_image)\n",
    "ax[1].set_title(f\"Compressed Image with {n_colors} Colors\")\n",
    "ax[1].axis(\"off\")\n",
    "\n",
    "plt.tight_layout()\n",
    "plt.show()\n"
   ]
  }
 ],
 "metadata": {
  "kernelspec": {
   "display_name": "Python 3",
   "language": "python",
   "name": "python3"
  },
  "language_info": {
   "codemirror_mode": {
    "name": "ipython",
    "version": 3
   },
   "file_extension": ".py",
   "mimetype": "text/x-python",
   "name": "python",
   "nbconvert_exporter": "python",
   "pygments_lexer": "ipython3",
   "version": "3.10.12"
  }
 },
 "nbformat": 4,
 "nbformat_minor": 2
}

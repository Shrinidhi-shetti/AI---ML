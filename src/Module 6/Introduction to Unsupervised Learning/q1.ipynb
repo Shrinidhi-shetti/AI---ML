{
 "cells": [
  {
   "cell_type": "code",
   "execution_count": null,
   "metadata": {},
   "outputs": [],
   "source": [
    "# Title: Unsupervised Learning\n",
    "\n",
    "# Task 1: Identifying patterns in customer purchasing behavior without any predefined categories.\n",
    "# Task 2: Grouping news articles by topic without knowing what the topics are.\n",
    "# Task 3:  Analyzing satellite images to identify different land use types without labeled data.\n",
    "\n",
    "\n",
    "\n",
    "# Title: Difference Between Supervised & Unsupervised Learning\n",
    "\n",
    "# Task 1:  Supervised Learning - Predicting house prices based on historical labeled data (e.g., size, location).\n",
    "# Task 2:  Unsupervised Learning - Exploring the hidden demographics within a dataset of customerprofiles.\n",
    "# Task 3:  Supervised Learning - Classifying emails as spam or not spam using labeled examples.\n",
    "# Task 4:  Unsupervised Learning -  Grouping images of handwritten digits without knowing the digit labels.\n",
    "\n",
    "\n",
    "\n",
    "# Title: Real-World Applications of Unsupervised Learning\n",
    "\n",
    "# Customer Segmentation\n",
    "# Task 1: Segmenting retail customers based on purchasing patterns.\n",
    "# Task 2: Dividing social media users into groups based on engagement metrics.\n",
    "# Task 3: Grouping telecom users by usage patterns to offer personalized plans.\n",
    "\n",
    "# Anomoly Detection\n",
    "# Task 1: Detecting fraudulent credit card transactions by identifying deviations from normal spending patterns.\n",
    "# Task 2: Identifying unusual network activity indicating potential cybersecurity threats.\n",
    "# Task 3: Monitoring industrial equipment for signs of failure by detecting abnormal operating conditions.\n",
    "\n",
    "# Feature Reduction\n",
    "# Task 1:  Using Principal Component Analysis (PCA) to reduce the dimensionality of image datasets for faster processing.\n",
    "# Task 2: Applying feature reduction to sensor data in IoT devices to improve computational efficiency.\n",
    "# Task 3:  Simplifying marketing datasets by merging related variables to uncover essential factors driving customer behavior.\n",
    "\n",
    "\n",
    "\n",
    "\n",
    "# Title:  Types of Unsupervised Learning\n",
    "\n",
    "# Clustering\n",
    "# Task 1; Using K-means clustering to group customers into segments with similar purchasing behaviors.\n",
    "# Task 2:  Applying hierarchical clustering to organize species based on genetic similarities.\n",
    "# Task 3: Clustering web pages based on content similarity for improved search engine performance.\n",
    "    \n",
    "# Dimensionality Reduction\n",
    "# Task 1: Applying PCA to reduce features in a facial recognition dataset.\n",
    "# Task 2: Using t-SNE for visualizing high-dimensional data in a 2D plot.\n",
    "# Task 3:  Employing Linear Discriminant Analysis to reduce variables in stock market prediction datasets.\n",
    "\n",
    "# Association Rule Learning\n",
    "# Task 1: Identifying products frequently bought together in market basket analysis.\n",
    "# Task 2: Uncovering relationships between medical symptoms and diseases in healthcare data.\n",
    "# Task 3: Finding associations between ingredients in cooking recipes.\n",
    "\n",
    "\n",
    "\n"
   ]
  },
  {
   "cell_type": "code",
   "execution_count": null,
   "metadata": {},
   "outputs": [],
   "source": []
  }
 ],
 "metadata": {
  "kernelspec": {
   "display_name": "Python 3",
   "language": "python",
   "name": "python3"
  },
  "language_info": {
   "codemirror_mode": {
    "name": "ipython",
    "version": 3
   },
   "file_extension": ".py",
   "mimetype": "text/x-python",
   "name": "python",
   "nbconvert_exporter": "python",
   "pygments_lexer": "ipython3",
   "version": "3.10.12"
  }
 },
 "nbformat": 4,
 "nbformat_minor": 2
}

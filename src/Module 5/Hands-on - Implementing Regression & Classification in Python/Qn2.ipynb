{
 "cells": [
  {
   "cell_type": "markdown",
   "metadata": {},
   "source": [
    "Title: Train a Classification Model (Logistic Regression)"
   ]
  },
  {
   "cell_type": "markdown",
   "metadata": {},
   "source": [
    "Task 1: Email Spam Detection<br>\n",
    "Dataset: Use a dataset containing labeled emails as spam or not-spam, with features such as word frequency."
   ]
  },
  {
   "cell_type": "code",
   "execution_count": 9,
   "metadata": {},
   "outputs": [
    {
     "ename": "SyntaxError",
     "evalue": "incomplete input (2763482580.py, line 17)",
     "output_type": "error",
     "traceback": [
      "\u001b[0;36m  Cell \u001b[0;32mIn[9], line 17\u001b[0;36m\u001b[0m\n\u001b[0;31m    # ... rest of your error handling ...\u001b[0m\n\u001b[0m                                         ^\u001b[0m\n\u001b[0;31mSyntaxError\u001b[0m\u001b[0;31m:\u001b[0m incomplete input\n"
     ]
    }
   ],
   "source": [
    "import pandas as pd\n",
    "from sklearn.model_selection import train_test_split\n",
    "from sklearn.naive_bayes import GaussianNB\n",
    "from sklearn.linear_model import LogisticRegression\n",
    "from sklearn.svm import SVC\n",
    "from sklearn.ensemble import RandomForestClassifier\n",
    "from sklearn.metrics import accuracy_score, classification_report\n",
    "\n",
    "# Load the dataset with the full path (replace with your actual path)\n",
    "try:\n",
    "    data = pd.read_csv('/path/to/your/file/spam_word_frequencies.csv')\n",
    "    # ... rest of your code ...\n",
    "except FileNotFoundError:\n",
    "    print(\"Error: The file 'spam_word_frequencies.csv' was not found. Please make sure the file path is correct.\")\n",
    "except KeyError as e:\n",
    "    # ... rest of your error handling ..\n",
    "    # ... rest of your error handling ..."
   ]
  },
  {
   "cell_type": "markdown",
   "metadata": {},
   "source": [
    "Task 2: Predicting Tumor Malignancy<br>\n",
    "Dataset: Use a dataset that contains features from tumor datasets such as size and shape indicators."
   ]
  },
  {
   "cell_type": "code",
   "execution_count": null,
   "metadata": {},
   "outputs": [],
   "source": [
    "# Write your code here"
   ]
  },
  {
   "cell_type": "markdown",
   "metadata": {},
   "source": [
    "Task 3: Wine Quality Classification<br>\n",
    "Dataset: Use a dataset that contains chemical properties of wine along with a quality rating.\n",
    "Treat quality as a binary classification (high vs. low)."
   ]
  },
  {
   "cell_type": "code",
   "execution_count": null,
   "metadata": {},
   "outputs": [],
   "source": [
    "# Write your code here"
   ]
  }
 ],
 "metadata": {
  "kernelspec": {
   "display_name": "Python 3",
   "language": "python",
   "name": "python3"
  },
  "language_info": {
   "codemirror_mode": {
    "name": "ipython",
    "version": 3
   },
   "file_extension": ".py",
   "mimetype": "text/x-python",
   "name": "python",
   "nbconvert_exporter": "python",
   "pygments_lexer": "ipython3",
   "version": "3.10.12"
  }
 },
 "nbformat": 4,
 "nbformat_minor": 2
}

{
 "cells": [
  {
   "cell_type": "markdown",
   "metadata": {},
   "source": [
    "Title: Supervised Learning "
   ]
  },
  {
   "cell_type": "markdown",
   "metadata": {},
   "source": [
    "Task 1: Identify input-output pairs in a dataset of housing prices."
   ]
  },
  {
   "cell_type": "code",
   "execution_count": 4,
   "metadata": {},
   "outputs": [],
   "source": [
    "# Write your code here\n",
    "import pandas as pd\n",
    "\n",
    "# Sample data\n",
    "data = {\n",
    "    'Bedrooms': [3, 4, 2, 5, 3],\n",
    "    'Bathrooms': [2, 3, 1, 4, 2],\n",
    "    'SquareFootage': [1500, 2000, 900, 3000, 1800],\n",
    "    'Location': ['Suburb', 'City Center', 'Rural', 'Suburb', 'City Center'],\n",
    "    'YearBuilt': [2005, 2010, 1995, 2018, 2000],\n",
    "    'GarageSize': [2, 2, 1, 3, 2],\n",
    "    'LotSize': [5000, 4000, 6000, 8000, 5500],\n",
    "    'Price': [350000, 500000, 200000, 650000, 420000]\n",
    "}\n",
    "\n",
    "# Create DataFrame\n",
    "df = pd.DataFrame(data)\n",
    "\n",
    "# Save to CSV\n",
    "df.to_csv('housing_data.csv', index=False)\n"
   ]
  },
  {
   "cell_type": "markdown",
   "metadata": {},
   "source": [
    "Task 2: Match labeled images to their correct classifications."
   ]
  },
  {
   "cell_type": "code",
   "execution_count": 5,
   "metadata": {},
   "outputs": [],
   "source": [
    "# Write your code here\n",
    "from PIL import Image\n",
    "import os\n",
    "\n",
    "# Create folder if it doesn't exist\n",
    "os.makedirs('images', exist_ok=True)\n",
    "\n",
    "# Generate dummy images\n",
    "labels = ['cat1', 'dog1', 'bird1', 'cat2', 'dog2']\n",
    "colors = [(255, 0, 0), (0, 255, 0), (0, 0, 255), (200, 200, 0), (255, 0, 255)]\n",
    "\n",
    "for name, color in zip(labels, colors):\n",
    "    img = Image.new('RGB', (100, 100), color=color)\n",
    "    img.save(f'images/{name}.jpg')\n"
   ]
  },
  {
   "cell_type": "markdown",
   "metadata": {},
   "source": [
    "Task 3: List potential inputs and outputs for predicting stock prices."
   ]
  },
  {
   "cell_type": "code",
   "execution_count": 6,
   "metadata": {},
   "outputs": [
    {
     "name": "stdout",
     "output_type": "stream",
     "text": [
      "stock_data.csv file created successfully.\n"
     ]
    }
   ],
   "source": [
    "import pandas as pd\n",
    "\n",
    "# Sample stock data\n",
    "data = {\n",
    "    'Date': ['2023-01-02', '2023-01-03', '2023-01-04', '2023-01-05', '2023-01-06'],\n",
    "    'Open': [150.0, 154.0, 156.0, 159.0, 160.0],\n",
    "    'High': [155.0, 157.0, 160.0, 162.0, 165.0],\n",
    "    'Low': [149.0, 153.0, 155.0, 158.0, 159.0],\n",
    "    'Close': [154.0, 156.0, 159.0, 160.0, 164.0],\n",
    "    'Volume': [3000000, 2800000, 3500000, 3200000, 4000000]\n",
    "}\n",
    "\n",
    "# Create DataFrame\n",
    "df = pd.DataFrame(data)\n",
    "\n",
    "# Convert Date column to datetime format\n",
    "df['Date'] = pd.to_datetime(df['Date'])\n",
    "\n",
    "# Save to CSV\n",
    "df.to_csv('stock_data.csv', index=False)\n",
    "\n",
    "print(\"stock_data.csv file created successfully.\")\n"
   ]
  }
 ],
 "metadata": {
  "kernelspec": {
   "display_name": "Python 3",
   "language": "python",
   "name": "python3"
  },
  "language_info": {
   "codemirror_mode": {
    "name": "ipython",
    "version": 3
   },
   "file_extension": ".py",
   "mimetype": "text/x-python",
   "name": "python",
   "nbconvert_exporter": "python",
   "pygments_lexer": "ipython3",
   "version": "3.10.12"
  }
 },
 "nbformat": 4,
 "nbformat_minor": 2
}
